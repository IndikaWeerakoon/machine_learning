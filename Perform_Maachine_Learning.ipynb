{
 "cells": [
  {
   "cell_type": "markdown",
   "metadata": {},
   "source": [
    "# Assignment CSC 369 2.0 Machine learning"
   ]
  },
  {
   "cell_type": "code",
   "execution_count": null,
   "metadata": {},
   "outputs": [],
   "source": []
  },
  {
   "cell_type": "markdown",
   "metadata": {},
   "source": [
    "# importing all required libraries\n",
    "\n",
    "import sutable libraries for \n",
    "> **pandas** :* for convert dataset into required format*,<br>\n",
    "> **sklearn** :* for perform K-nearest neighbors algorithm*,<br>\n",
    "> **nampy** : *for special math function*,<br>\n",
    "> **keras** : *for perform reggression and nural networks*"
   ]
  },
  {
   "cell_type": "code",
   "execution_count": 36,
   "metadata": {},
   "outputs": [],
   "source": [
    "import numpy as np\n",
    "import pandas as pd\n",
    "import matplotlib.pyplot as plt\n",
    "import scipy\n",
    "\n",
    "from pylab import rcParams\n",
    "\n",
    "import sklearn\n",
    "from sklearn.neighbors import KNeighborsClassifier\n",
    "from sklearn.cross_validation import train_test_split\n",
    "from sklearn import metrics\n",
    "from sklearn import neighbors\n",
    "from sklearn import preprocessing\n",
    "from sklearn.cross_validation import cross_val_score\n",
    "from sklearn.metrics import accuracy_score"
   ]
  },
  {
   "cell_type": "markdown",
   "metadata": {},
   "source": [
    "#### import keras libraries"
   ]
  },
  {
   "cell_type": "code",
   "execution_count": 37,
   "metadata": {},
   "outputs": [],
   "source": [
    "import keras\n",
    "from keras.models import Sequential\n",
    "from keras.layers import Dense, Activation"
   ]
  },
  {
   "cell_type": "markdown",
   "metadata": {},
   "source": [
    "## Loard the dataset"
   ]
  },
  {
   "cell_type": "code",
   "execution_count": 243,
   "metadata": {},
   "outputs": [],
   "source": [
    "cns = pd.read_csv('Adult_Census_Income_Binary_Classification_dataset.csv')\n"
   ]
  },
  {
   "cell_type": "markdown",
   "metadata": {},
   "source": [
    "### Handle missing data\n",
    "\n",
    "- convert imssing data from given format'?' into NAN\n",
    "- Then drop those missing data to make complete dataset\n",
    "- remake the **DataFrme** to avoiding missing indexes"
   ]
  },
  {
   "cell_type": "code",
   "execution_count": 244,
   "metadata": {},
   "outputs": [],
   "source": [
    "#Function convert imssing data in given format'?' in to NAN and then drop those data\n",
    "\n",
    "def remove_miss_data(df):\n",
    "    df = df.replace('[?]',np.nan,regex=True)\n",
    "    df = df.dropna(how='any')\n",
    "    return df"
   ]
  },
  {
   "cell_type": "code",
   "execution_count": 40,
   "metadata": {},
   "outputs": [],
   "source": [
    "# assign th function\n",
    "cns = remove_miss_data(cns)"
   ]
  },
  {
   "cell_type": "code",
   "execution_count": 41,
   "metadata": {},
   "outputs": [],
   "source": [
    "#Reorganizing data frame with continueus Indexes\n",
    "cns = pd.DataFrame(cns.values,columns= cns.columns.values)"
   ]
  },
  {
   "cell_type": "code",
   "execution_count": 42,
   "metadata": {},
   "outputs": [
    {
     "data": {
      "text/html": [
       "<div>\n",
       "<style scoped>\n",
       "    .dataframe tbody tr th:only-of-type {\n",
       "        vertical-align: middle;\n",
       "    }\n",
       "\n",
       "    .dataframe tbody tr th {\n",
       "        vertical-align: top;\n",
       "    }\n",
       "\n",
       "    .dataframe thead th {\n",
       "        text-align: right;\n",
       "    }\n",
       "</style>\n",
       "<table border=\"1\" class=\"dataframe\">\n",
       "  <thead>\n",
       "    <tr style=\"text-align: right;\">\n",
       "      <th></th>\n",
       "      <th>age</th>\n",
       "      <th>workclass</th>\n",
       "      <th>education</th>\n",
       "      <th>education-num</th>\n",
       "      <th>marital-status</th>\n",
       "      <th>occupation</th>\n",
       "      <th>relationship</th>\n",
       "      <th>race</th>\n",
       "      <th>sex</th>\n",
       "      <th>capital-gain</th>\n",
       "      <th>capital-loss</th>\n",
       "      <th>hours-per-week</th>\n",
       "      <th>native-country</th>\n",
       "      <th>income</th>\n",
       "    </tr>\n",
       "  </thead>\n",
       "  <tbody>\n",
       "    <tr>\n",
       "      <th>0</th>\n",
       "      <td>39</td>\n",
       "      <td>State-gov</td>\n",
       "      <td>Bachelors</td>\n",
       "      <td>13</td>\n",
       "      <td>Never-married</td>\n",
       "      <td>Adm-clerical</td>\n",
       "      <td>Not-in-family</td>\n",
       "      <td>White</td>\n",
       "      <td>Male</td>\n",
       "      <td>2174</td>\n",
       "      <td>0</td>\n",
       "      <td>40</td>\n",
       "      <td>United-States</td>\n",
       "      <td>&lt;=50K</td>\n",
       "    </tr>\n",
       "    <tr>\n",
       "      <th>1</th>\n",
       "      <td>50</td>\n",
       "      <td>Self-emp-not-inc</td>\n",
       "      <td>Bachelors</td>\n",
       "      <td>13</td>\n",
       "      <td>Married-civ-spouse</td>\n",
       "      <td>Exec-managerial</td>\n",
       "      <td>Husband</td>\n",
       "      <td>White</td>\n",
       "      <td>Male</td>\n",
       "      <td>0</td>\n",
       "      <td>0</td>\n",
       "      <td>13</td>\n",
       "      <td>United-States</td>\n",
       "      <td>&lt;=50K</td>\n",
       "    </tr>\n",
       "    <tr>\n",
       "      <th>2</th>\n",
       "      <td>38</td>\n",
       "      <td>Private</td>\n",
       "      <td>HS-grad</td>\n",
       "      <td>9</td>\n",
       "      <td>Divorced</td>\n",
       "      <td>Handlers-cleaners</td>\n",
       "      <td>Not-in-family</td>\n",
       "      <td>White</td>\n",
       "      <td>Male</td>\n",
       "      <td>0</td>\n",
       "      <td>0</td>\n",
       "      <td>40</td>\n",
       "      <td>United-States</td>\n",
       "      <td>&lt;=50K</td>\n",
       "    </tr>\n",
       "    <tr>\n",
       "      <th>3</th>\n",
       "      <td>53</td>\n",
       "      <td>Private</td>\n",
       "      <td>11th</td>\n",
       "      <td>7</td>\n",
       "      <td>Married-civ-spouse</td>\n",
       "      <td>Handlers-cleaners</td>\n",
       "      <td>Husband</td>\n",
       "      <td>Black</td>\n",
       "      <td>Male</td>\n",
       "      <td>0</td>\n",
       "      <td>0</td>\n",
       "      <td>40</td>\n",
       "      <td>United-States</td>\n",
       "      <td>&lt;=50K</td>\n",
       "    </tr>\n",
       "    <tr>\n",
       "      <th>4</th>\n",
       "      <td>28</td>\n",
       "      <td>Private</td>\n",
       "      <td>Bachelors</td>\n",
       "      <td>13</td>\n",
       "      <td>Married-civ-spouse</td>\n",
       "      <td>Prof-specialty</td>\n",
       "      <td>Wife</td>\n",
       "      <td>Black</td>\n",
       "      <td>Female</td>\n",
       "      <td>0</td>\n",
       "      <td>0</td>\n",
       "      <td>40</td>\n",
       "      <td>Cuba</td>\n",
       "      <td>&lt;=50K</td>\n",
       "    </tr>\n",
       "  </tbody>\n",
       "</table>\n",
       "</div>"
      ],
      "text/plain": [
       "  age          workclass   education  education-num       marital-status  \\\n",
       "0  39          State-gov   Bachelors             13        Never-married   \n",
       "1  50   Self-emp-not-inc   Bachelors             13   Married-civ-spouse   \n",
       "2  38            Private     HS-grad              9             Divorced   \n",
       "3  53            Private        11th              7   Married-civ-spouse   \n",
       "4  28            Private   Bachelors             13   Married-civ-spouse   \n",
       "\n",
       "           occupation    relationship    race      sex  capital-gain  \\\n",
       "0        Adm-clerical   Not-in-family   White     Male          2174   \n",
       "1     Exec-managerial         Husband   White     Male             0   \n",
       "2   Handlers-cleaners   Not-in-family   White     Male             0   \n",
       "3   Handlers-cleaners         Husband   Black     Male             0   \n",
       "4      Prof-specialty            Wife   Black   Female             0   \n",
       "\n",
       "   capital-loss  hours-per-week  native-country  income  \n",
       "0             0              40   United-States   <=50K  \n",
       "1             0              13   United-States   <=50K  \n",
       "2             0              40   United-States   <=50K  \n",
       "3             0              40   United-States   <=50K  \n",
       "4             0              40            Cuba   <=50K  "
      ]
     },
     "execution_count": 42,
     "metadata": {},
     "output_type": "execute_result"
    }
   ],
   "source": [
    "#output of the convert\n",
    "cns.head(5)"
   ]
  },
  {
   "cell_type": "code",
   "execution_count": 43,
   "metadata": {},
   "outputs": [],
   "source": [
    "##test"
   ]
  },
  {
   "cell_type": "markdown",
   "metadata": {},
   "source": [
    "## Convert all non-numeric Data into numeric\n",
    "\n",
    "> This census dataset has lot of **featurs with non numeric format** <br>\n",
    "> But the problem is we *can't handle those data in machine learning contex *.<br>\n",
    "> There for we hv to convert those data into numeric format"
   ]
  },
  {
   "cell_type": "code",
   "execution_count": 44,
   "metadata": {},
   "outputs": [],
   "source": [
    "#function is converting all categorical data into nomeric format\n",
    "\n",
    "def handle_non_numeric_data(df):\n",
    "    columns = df.columns.values\n",
    "    \n",
    "    for column in columns:\n",
    "        text_digit_val ={} #use this variable to hold categories of each columns and there lables given by us\n",
    "        def convert_to_int(value):\n",
    "            return text_digit_val[value]\n",
    "        if df[column].dtype != np.int64 or df[column].dtype != np.float64:\n",
    "            column_content = df[column].values.tolist()\n",
    "            unique_element = set(column_content)\n",
    "            \n",
    "            x=0\n",
    "            for unique in unique_element:\n",
    "                if unique not in text_digit_val:\n",
    "                    text_digit_val[unique] = x\n",
    "                    x+=1\n",
    "            \n",
    "            df[column] = list(map(convert_to_int,df[column]))\n",
    "    \n",
    "    return df\n"
   ]
  },
  {
   "cell_type": "code",
   "execution_count": 45,
   "metadata": {},
   "outputs": [],
   "source": [
    "#execute the function\n",
    "cns = handle_non_numeric_data(cns)"
   ]
  },
  {
   "cell_type": "code",
   "execution_count": 46,
   "metadata": {},
   "outputs": [
    {
     "data": {
      "text/html": [
       "<div>\n",
       "<style scoped>\n",
       "    .dataframe tbody tr th:only-of-type {\n",
       "        vertical-align: middle;\n",
       "    }\n",
       "\n",
       "    .dataframe tbody tr th {\n",
       "        vertical-align: top;\n",
       "    }\n",
       "\n",
       "    .dataframe thead th {\n",
       "        text-align: right;\n",
       "    }\n",
       "</style>\n",
       "<table border=\"1\" class=\"dataframe\">\n",
       "  <thead>\n",
       "    <tr style=\"text-align: right;\">\n",
       "      <th></th>\n",
       "      <th>age</th>\n",
       "      <th>workclass</th>\n",
       "      <th>education</th>\n",
       "      <th>education-num</th>\n",
       "      <th>marital-status</th>\n",
       "      <th>occupation</th>\n",
       "      <th>relationship</th>\n",
       "      <th>race</th>\n",
       "      <th>sex</th>\n",
       "      <th>capital-gain</th>\n",
       "      <th>capital-loss</th>\n",
       "      <th>hours-per-week</th>\n",
       "      <th>native-country</th>\n",
       "      <th>income</th>\n",
       "    </tr>\n",
       "  </thead>\n",
       "  <tbody>\n",
       "    <tr>\n",
       "      <th>0</th>\n",
       "      <td>22</td>\n",
       "      <td>4</td>\n",
       "      <td>7</td>\n",
       "      <td>12</td>\n",
       "      <td>6</td>\n",
       "      <td>3</td>\n",
       "      <td>2</td>\n",
       "      <td>2</td>\n",
       "      <td>1</td>\n",
       "      <td>29</td>\n",
       "      <td>0</td>\n",
       "      <td>39</td>\n",
       "      <td>36</td>\n",
       "      <td>0</td>\n",
       "    </tr>\n",
       "    <tr>\n",
       "      <th>1</th>\n",
       "      <td>33</td>\n",
       "      <td>2</td>\n",
       "      <td>7</td>\n",
       "      <td>12</td>\n",
       "      <td>1</td>\n",
       "      <td>9</td>\n",
       "      <td>5</td>\n",
       "      <td>2</td>\n",
       "      <td>1</td>\n",
       "      <td>0</td>\n",
       "      <td>0</td>\n",
       "      <td>12</td>\n",
       "      <td>36</td>\n",
       "      <td>0</td>\n",
       "    </tr>\n",
       "    <tr>\n",
       "      <th>2</th>\n",
       "      <td>21</td>\n",
       "      <td>6</td>\n",
       "      <td>6</td>\n",
       "      <td>8</td>\n",
       "      <td>4</td>\n",
       "      <td>4</td>\n",
       "      <td>2</td>\n",
       "      <td>2</td>\n",
       "      <td>1</td>\n",
       "      <td>0</td>\n",
       "      <td>0</td>\n",
       "      <td>39</td>\n",
       "      <td>36</td>\n",
       "      <td>0</td>\n",
       "    </tr>\n",
       "    <tr>\n",
       "      <th>3</th>\n",
       "      <td>36</td>\n",
       "      <td>6</td>\n",
       "      <td>11</td>\n",
       "      <td>6</td>\n",
       "      <td>1</td>\n",
       "      <td>4</td>\n",
       "      <td>5</td>\n",
       "      <td>4</td>\n",
       "      <td>1</td>\n",
       "      <td>0</td>\n",
       "      <td>0</td>\n",
       "      <td>39</td>\n",
       "      <td>36</td>\n",
       "      <td>0</td>\n",
       "    </tr>\n",
       "    <tr>\n",
       "      <th>4</th>\n",
       "      <td>11</td>\n",
       "      <td>6</td>\n",
       "      <td>7</td>\n",
       "      <td>12</td>\n",
       "      <td>1</td>\n",
       "      <td>1</td>\n",
       "      <td>1</td>\n",
       "      <td>4</td>\n",
       "      <td>0</td>\n",
       "      <td>0</td>\n",
       "      <td>0</td>\n",
       "      <td>39</td>\n",
       "      <td>21</td>\n",
       "      <td>0</td>\n",
       "    </tr>\n",
       "  </tbody>\n",
       "</table>\n",
       "</div>"
      ],
      "text/plain": [
       "   age   workclass   education   education-num   marital-status   occupation  \\\n",
       "0   22           4           7              12                6            3   \n",
       "1   33           2           7              12                1            9   \n",
       "2   21           6           6               8                4            4   \n",
       "3   36           6          11               6                1            4   \n",
       "4   11           6           7              12                1            1   \n",
       "\n",
       "    relationship   race   sex   capital-gain   capital-loss   hours-per-week  \\\n",
       "0              2      2     1             29              0               39   \n",
       "1              5      2     1              0              0               12   \n",
       "2              2      2     1              0              0               39   \n",
       "3              5      4     1              0              0               39   \n",
       "4              1      4     0              0              0               39   \n",
       "\n",
       "    native-country   income  \n",
       "0               36        0  \n",
       "1               36        0  \n",
       "2               36        0  \n",
       "3               36        0  \n",
       "4               21        0  "
      ]
     },
     "execution_count": 46,
     "metadata": {},
     "output_type": "execute_result"
    }
   ],
   "source": [
    "#output of the function\n",
    "cns.head(5)"
   ]
  },
  {
   "cell_type": "markdown",
   "metadata": {},
   "source": [
    "## Spliting the dataset into the train and test"
   ]
  },
  {
   "cell_type": "code",
   "execution_count": 47,
   "metadata": {},
   "outputs": [],
   "source": [
    "x_prime = cns.iloc[:,:13].values\n",
    "y = cns.iloc[:,13].values"
   ]
  },
  {
   "cell_type": "code",
   "execution_count": 48,
   "metadata": {},
   "outputs": [
    {
     "name": "stdout",
     "output_type": "stream",
     "text": [
      "x_prime dataType: int64\n",
      "y dataType: int64\n"
     ]
    }
   ],
   "source": [
    "print(\"x_prime dataType: \"+str(x_prime.dtype))\n",
    "print(\"y dataType: \"+str(y.dtype))"
   ]
  },
  {
   "cell_type": "markdown",
   "metadata": {},
   "source": [
    "#### Normalizing the input data"
   ]
  },
  {
   "cell_type": "code",
   "execution_count": 49,
   "metadata": {},
   "outputs": [],
   "source": [
    "x_prime = x_prime.astype('float64') #converting data type into float64\n",
    "\n",
    "X = preprocessing.scale(x_prime)"
   ]
  },
  {
   "cell_type": "markdown",
   "metadata": {},
   "source": [
    "#### split  y and x into train and test\n",
    "> gives **70%** of **train data**,  and **30%** of **test data**"
   ]
  },
  {
   "cell_type": "code",
   "execution_count": 50,
   "metadata": {},
   "outputs": [],
   "source": [
    "x_train,x_test,y_train,y_test = train_test_split(X,y,test_size=.33)"
   ]
  },
  {
   "cell_type": "markdown",
   "metadata": {},
   "source": [
    "# 1. K Nearest Neighbour Classification "
   ]
  },
  {
   "cell_type": "markdown",
   "metadata": {},
   "source": [
    "##### 1.  initialzing the KNN I"
   ]
  },
  {
   "cell_type": "code",
   "execution_count": 44,
   "metadata": {},
   "outputs": [],
   "source": [
    "clf = neighbors.KNeighborsClassifier(n_neighbors = 5)"
   ]
  },
  {
   "cell_type": "markdown",
   "metadata": {},
   "source": [
    "##### 2. fit training data for train the model I"
   ]
  },
  {
   "cell_type": "code",
   "execution_count": 45,
   "metadata": {
    "scrolled": true
   },
   "outputs": [
    {
     "data": {
      "text/plain": [
       "KNeighborsClassifier(algorithm='auto', leaf_size=30, metric='minkowski',\n",
       "           metric_params=None, n_jobs=1, n_neighbors=5, p=2,\n",
       "           weights='uniform')"
      ]
     },
     "execution_count": 45,
     "metadata": {},
     "output_type": "execute_result"
    }
   ],
   "source": [
    "clf.fit(x_train,y_train)"
   ]
  },
  {
   "cell_type": "markdown",
   "metadata": {},
   "source": [
    "##### 3. evaluate the model performance at K=5"
   ]
  },
  {
   "cell_type": "code",
   "execution_count": 46,
   "metadata": {},
   "outputs": [
    {
     "name": "stdout",
     "output_type": "stream",
     "text": [
      "             precision    recall  f1-score   support\n",
      "\n",
      "          0       0.67      0.58      0.62      2503\n",
      "          1       0.86      0.90      0.88      7451\n",
      "\n",
      "avg / total       0.81      0.82      0.82      9954\n",
      "\n"
     ]
    }
   ],
   "source": [
    "y_expect = y_test\n",
    "y_predict = clf.predict(x_test)\n",
    "\n",
    "print(metrics.classification_report(y_expect,y_predict))"
   ]
  },
  {
   "cell_type": "code",
   "execution_count": 47,
   "metadata": {},
   "outputs": [
    {
     "data": {
      "text/plain": [
       "0.8217801888687964"
      ]
     },
     "execution_count": 47,
     "metadata": {},
     "output_type": "execute_result"
    }
   ],
   "source": [
    "accuracy_score(y_predict,y_expect)"
   ]
  },
  {
   "cell_type": "markdown",
   "metadata": {},
   "source": [
    "##### 4. find optimum K value for the model"
   ]
  },
  {
   "cell_type": "code",
   "execution_count": 48,
   "metadata": {},
   "outputs": [],
   "source": [
    "rangeList = list(range(1,50))\n",
    "neighbors = filter(lambda x: x%2!=0,rangeList)"
   ]
  },
  {
   "cell_type": "code",
   "execution_count": 49,
   "metadata": {},
   "outputs": [],
   "source": [
    "cv_scores =[]\n",
    "for k in neighbors:\n",
    "    knn = KNeighborsClassifier(n_neighbors = k)\n",
    "    scores = cross_val_score(knn,x_train,y_train ,cv =10,scoring='accuracy')\n",
    "    cv_scores.append(scores.mean())"
   ]
  },
  {
   "cell_type": "code",
   "execution_count": 57,
   "metadata": {},
   "outputs": [
    {
     "data": {
      "image/png": "[encoded data removed]",
      "text/plain": [
       "<Figure size 432x288 with 1 Axes>"
      ]
     },
     "metadata": {},
     "output_type": "display_data"
    }
   ],
   "source": [
    "rangeList = list(range(1,50))\n",
    "neighbors = filter(lambda x: x%2!=0,rangeList)\n",
    "MSE = [1 - x for x in cv_scores]\n",
    "MSE1 = MSE #assign MSE \n",
    "MSE = np.array(MSE).astype('float64')\n",
    "neighbors = np.array(list(neighbors)).astype('float64')\n",
    "\n",
    "plt.plot(neighbors, MSE)\n",
    "plt.xlabel('Number of Neighbors K')\n",
    "plt.ylabel('Misclassification Error')\n",
    "plt.show()\n"
   ]
  },
  {
   "cell_type": "markdown",
   "metadata": {},
   "source": [
    "#### Find optimum k value"
   ]
  },
  {
   "cell_type": "code",
   "execution_count": 140,
   "metadata": {},
   "outputs": [
    {
     "name": "stdout",
     "output_type": "stream",
     "text": [
      "Optimum K:19.0\n"
     ]
    }
   ],
   "source": [
    "optimum_k = neighbors[MSE1.index(min(MSE1))]\n",
    "print('Optimum K:'+str(optimum_k))"
   ]
  },
  {
   "cell_type": "markdown",
   "metadata": {},
   "source": [
    "#### Find the KNN algorithm with optimum k"
   ]
  },
  {
   "cell_type": "code",
   "execution_count": 259,
   "metadata": {},
   "outputs": [
    {
     "data": {
      "text/plain": [
       "KNeighborsClassifier(algorithm='auto', leaf_size=30, metric='minkowski',\n",
       "           metric_params=None, n_jobs=1, n_neighbors=19, p=2,\n",
       "           weights='uniform')"
      ]
     },
     "execution_count": 259,
     "metadata": {},
     "output_type": "execute_result"
    }
   ],
   "source": [
    "knn = KNeighborsClassifier(n_neighbors=19)\n",
    "knn.fit(x_train,y_train)"
   ]
  },
  {
   "cell_type": "code",
   "execution_count": 260,
   "metadata": {},
   "outputs": [],
   "source": [
    "y_predict = knn.predict(x_test)\n",
    "y_expect = y_test"
   ]
  },
  {
   "cell_type": "markdown",
   "metadata": {},
   "source": [
    "##### Precision ann recall"
   ]
  },
  {
   "cell_type": "code",
   "execution_count": 147,
   "metadata": {},
   "outputs": [
    {
     "name": "stdout",
     "output_type": "stream",
     "text": [
      "             precision    recall  f1-score   support\n",
      "\n",
      "          0       0.70      0.57      0.63      2465\n",
      "          1       0.87      0.92      0.89      7489\n",
      "\n",
      "avg / total       0.83      0.83      0.83      9954\n",
      "\n"
     ]
    }
   ],
   "source": [
    "print(metrics.classification_report(y_expect,y_predict))"
   ]
  },
  {
   "cell_type": "markdown",
   "metadata": {},
   "source": [
    "##### More precision + low recall is for good Predictor"
   ]
  },
  {
   "cell_type": "markdown",
   "metadata": {},
   "source": [
    "#### predictor accuracy level"
   ]
  },
  {
   "cell_type": "code",
   "execution_count": 261,
   "metadata": {},
   "outputs": [
    {
     "data": {
      "text/plain": [
       "0.8426763110307414"
      ]
     },
     "execution_count": 261,
     "metadata": {},
     "output_type": "execute_result"
    }
   ],
   "source": [
    "accuracy_score(y_predict, y_expect)"
   ]
  },
  {
   "cell_type": "code",
   "execution_count": 262,
   "metadata": {},
   "outputs": [],
   "source": [
    "#this model has good accuracy level"
   ]
  },
  {
   "cell_type": "markdown",
   "metadata": {},
   "source": [
    "# 2. Logistic Regression"
   ]
  },
  {
   "cell_type": "code",
   "execution_count": 51,
   "metadata": {},
   "outputs": [],
   "source": [
    "#split into test and validation\n",
    "x_val,x_test,y_val,y_test = train_test_split(x_test,y_test,test_size=.5)"
   ]
  },
  {
   "cell_type": "code",
   "execution_count": 52,
   "metadata": {},
   "outputs": [],
   "source": [
    "#convert to the one hot encording format\n",
    "y_val_one_hot = keras.utils.to_categorical(y_val,num_classes = 2)\n",
    "y_train_one_hot = keras.utils.to_categorical(y_train,num_classes =2)\n",
    "y_test_one_hot = keras.utils.to_categorical(y_test,num_classes = 2)"
   ]
  },
  {
   "cell_type": "code",
   "execution_count": 179,
   "metadata": {},
   "outputs": [],
   "source": [
    "#crate the model\n",
    "epochs = 100\n",
    "batch_size = 110\n",
    "\n",
    "model = Sequential()\n",
    "model.add(Dense(2,input_dim = (13),activation='softmax'))\n",
    "model.compile(optimizer= 'sgd',\n",
    "              loss='categorical_crossentropy',\n",
    "              metrics=['accuracy'])"
   ]
  },
  {
   "cell_type": "code",
   "execution_count": 180,
   "metadata": {},
   "outputs": [
    {
     "name": "stdout",
     "output_type": "stream",
     "text": [
      "_________________________________________________________________\n",
      "Layer (type)                 Output Shape              Param #   \n",
      "=================================================================\n",
      "dense_41 (Dense)             (None, 2)                 28        \n",
      "=================================================================\n",
      "Total params: 28\n",
      "Trainable params: 28\n",
      "Non-trainable params: 0\n",
      "_________________________________________________________________\n"
     ]
    }
   ],
   "source": [
    "model.summary()"
   ]
  },
  {
   "cell_type": "code",
   "execution_count": null,
   "metadata": {},
   "outputs": [],
   "source": []
  },
  {
   "cell_type": "code",
   "execution_count": 246,
   "metadata": {},
   "outputs": [
    {
     "name": "stdout",
     "output_type": "stream",
     "text": [
      "Train on 20208 samples, validate on 4977 samples\n",
      "Epoch 1/100\n",
      "20208/20208 [==============================] - 0s 20us/step - loss: 0.3738 - acc: 0.8216 - val_loss: 0.3812 - val_acc: 0.8176\n",
      "Epoch 2/100\n",
      "20208/20208 [==============================] - 0s 17us/step - loss: 0.3738 - acc: 0.8211 - val_loss: 0.3812 - val_acc: 0.8180\n",
      "Epoch 3/100\n",
      "20208/20208 [==============================] - 0s 18us/step - loss: 0.3738 - acc: 0.8209 - val_loss: 0.3814 - val_acc: 0.8178\n",
      "Epoch 4/100\n",
      "20208/20208 [==============================] - 0s 21us/step - loss: 0.3738 - acc: 0.8213 - val_loss: 0.3813 - val_acc: 0.8180\n",
      "Epoch 5/100\n",
      "20208/20208 [==============================] - 0s 19us/step - loss: 0.3738 - acc: 0.8214 - val_loss: 0.3812 - val_acc: 0.8178\n",
      "Epoch 6/100\n",
      "20208/20208 [==============================] - 0s 18us/step - loss: 0.3738 - acc: 0.8209 - val_loss: 0.3812 - val_acc: 0.8176\n",
      "Epoch 7/100\n",
      "20208/20208 [==============================] - 0s 18us/step - loss: 0.3738 - acc: 0.8211 - val_loss: 0.3812 - val_acc: 0.8180\n",
      "Epoch 8/100\n",
      "20208/20208 [==============================] - 0s 18us/step - loss: 0.3738 - acc: 0.8206 - val_loss: 0.3812 - val_acc: 0.8180\n",
      "Epoch 9/100\n",
      "20208/20208 [==============================] - 0s 18us/step - loss: 0.3738 - acc: 0.8213 - val_loss: 0.3812 - val_acc: 0.8178\n",
      "Epoch 10/100\n",
      "20208/20208 [==============================] - 0s 18us/step - loss: 0.3738 - acc: 0.8213 - val_loss: 0.3812 - val_acc: 0.8182\n",
      "Epoch 11/100\n",
      "20208/20208 [==============================] - 0s 18us/step - loss: 0.3738 - acc: 0.8208 - val_loss: 0.3812 - val_acc: 0.8174\n",
      "Epoch 12/100\n",
      "20208/20208 [==============================] - 0s 18us/step - loss: 0.3738 - acc: 0.8212 - val_loss: 0.3812 - val_acc: 0.8176\n",
      "Epoch 13/100\n",
      "20208/20208 [==============================] - 0s 18us/step - loss: 0.3738 - acc: 0.8215 - val_loss: 0.3812 - val_acc: 0.8176\n",
      "Epoch 14/100\n",
      "20208/20208 [==============================] - 0s 18us/step - loss: 0.3738 - acc: 0.8215 - val_loss: 0.3813 - val_acc: 0.8182\n",
      "Epoch 15/100\n",
      "20208/20208 [==============================] - 0s 17us/step - loss: 0.3738 - acc: 0.8207 - val_loss: 0.3812 - val_acc: 0.8178\n",
      "Epoch 16/100\n",
      "20208/20208 [==============================] - 0s 18us/step - loss: 0.3738 - acc: 0.8214 - val_loss: 0.3813 - val_acc: 0.8182\n",
      "Epoch 17/100\n",
      "20208/20208 [==============================] - 0s 20us/step - loss: 0.3738 - acc: 0.8206 - val_loss: 0.3813 - val_acc: 0.8182\n",
      "Epoch 18/100\n",
      "20208/20208 [==============================] - 0s 23us/step - loss: 0.3738 - acc: 0.8212 - val_loss: 0.3813 - val_acc: 0.8176\n",
      "Epoch 19/100\n",
      "20208/20208 [==============================] - 0s 16us/step - loss: 0.3738 - acc: 0.8212 - val_loss: 0.3812 - val_acc: 0.8172\n",
      "Epoch 20/100\n",
      "20208/20208 [==============================] - 0s 17us/step - loss: 0.3738 - acc: 0.8208 - val_loss: 0.3812 - val_acc: 0.8172\n",
      "Epoch 21/100\n",
      "20208/20208 [==============================] - 0s 17us/step - loss: 0.3738 - acc: 0.8213 - val_loss: 0.3812 - val_acc: 0.8184\n",
      "Epoch 22/100\n",
      "20208/20208 [==============================] - 0s 18us/step - loss: 0.3738 - acc: 0.8215 - val_loss: 0.3813 - val_acc: 0.8176\n",
      "Epoch 23/100\n",
      "20208/20208 [==============================] - 0s 16us/step - loss: 0.3738 - acc: 0.8213 - val_loss: 0.3812 - val_acc: 0.8176\n",
      "Epoch 24/100\n",
      "20208/20208 [==============================] - 0s 20us/step - loss: 0.3738 - acc: 0.8210 - val_loss: 0.3812 - val_acc: 0.8178\n",
      "Epoch 25/100\n",
      "20208/20208 [==============================] - 0s 20us/step - loss: 0.3738 - acc: 0.8211 - val_loss: 0.3813 - val_acc: 0.8182\n",
      "Epoch 26/100\n",
      "20208/20208 [==============================] - 0s 20us/step - loss: 0.3738 - acc: 0.8212 - val_loss: 0.3813 - val_acc: 0.8184\n",
      "Epoch 27/100\n",
      "20208/20208 [==============================] - 0s 19us/step - loss: 0.3738 - acc: 0.8210 - val_loss: 0.3813 - val_acc: 0.8182\n",
      "Epoch 28/100\n",
      "20208/20208 [==============================] - 0s 21us/step - loss: 0.3738 - acc: 0.8209 - val_loss: 0.3812 - val_acc: 0.8178\n",
      "Epoch 29/100\n",
      "20208/20208 [==============================] - 0s 20us/step - loss: 0.3738 - acc: 0.8210 - val_loss: 0.3812 - val_acc: 0.8178\n",
      "Epoch 30/100\n",
      "20208/20208 [==============================] - 0s 21us/step - loss: 0.3738 - acc: 0.8211 - val_loss: 0.3813 - val_acc: 0.8178\n",
      "Epoch 31/100\n",
      "20208/20208 [==============================] - 0s 21us/step - loss: 0.3738 - acc: 0.8212 - val_loss: 0.3813 - val_acc: 0.8182\n",
      "Epoch 32/100\n",
      "20208/20208 [==============================] - 0s 19us/step - loss: 0.3738 - acc: 0.8212 - val_loss: 0.3812 - val_acc: 0.8178\n",
      "Epoch 33/100\n",
      "20208/20208 [==============================] - 0s 19us/step - loss: 0.3738 - acc: 0.8210 - val_loss: 0.3813 - val_acc: 0.8180\n",
      "Epoch 34/100\n",
      "20208/20208 [==============================] - 0s 20us/step - loss: 0.3738 - acc: 0.8211 - val_loss: 0.3813 - val_acc: 0.8186\n",
      "Epoch 35/100\n",
      "20208/20208 [==============================] - 0s 20us/step - loss: 0.3738 - acc: 0.8210 - val_loss: 0.3813 - val_acc: 0.8182\n",
      "Epoch 36/100\n",
      "20208/20208 [==============================] - 0s 21us/step - loss: 0.3738 - acc: 0.8211 - val_loss: 0.3813 - val_acc: 0.8182\n",
      "Epoch 37/100\n",
      "20208/20208 [==============================] - 0s 20us/step - loss: 0.3738 - acc: 0.8210 - val_loss: 0.3813 - val_acc: 0.8178\n",
      "Epoch 38/100\n",
      "20208/20208 [==============================] - 0s 20us/step - loss: 0.3738 - acc: 0.8211 - val_loss: 0.3812 - val_acc: 0.8178\n",
      "Epoch 39/100\n",
      "20208/20208 [==============================] - 0s 20us/step - loss: 0.3738 - acc: 0.8211 - val_loss: 0.3812 - val_acc: 0.8180\n",
      "Epoch 40/100\n",
      "20208/20208 [==============================] - 0s 20us/step - loss: 0.3738 - acc: 0.8212 - val_loss: 0.3812 - val_acc: 0.8172\n",
      "Epoch 41/100\n",
      "20208/20208 [==============================] - 0s 19us/step - loss: 0.3738 - acc: 0.8211 - val_loss: 0.3812 - val_acc: 0.8178\n",
      "Epoch 42/100\n",
      "20208/20208 [==============================] - 0s 19us/step - loss: 0.3738 - acc: 0.8208 - val_loss: 0.3812 - val_acc: 0.8180\n",
      "Epoch 43/100\n",
      "20208/20208 [==============================] - 0s 19us/step - loss: 0.3738 - acc: 0.8214 - val_loss: 0.3812 - val_acc: 0.8178\n",
      "Epoch 44/100\n",
      "20208/20208 [==============================] - 0s 19us/step - loss: 0.3738 - acc: 0.8214 - val_loss: 0.3813 - val_acc: 0.8180\n",
      "Epoch 45/100\n",
      "20208/20208 [==============================] - 0s 19us/step - loss: 0.3738 - acc: 0.8213 - val_loss: 0.3814 - val_acc: 0.8174\n",
      "Epoch 46/100\n",
      "20208/20208 [==============================] - 0s 19us/step - loss: 0.3738 - acc: 0.8210 - val_loss: 0.3812 - val_acc: 0.8180\n",
      "Epoch 47/100\n",
      "20208/20208 [==============================] - 0s 19us/step - loss: 0.3738 - acc: 0.8209 - val_loss: 0.3813 - val_acc: 0.8174\n",
      "Epoch 48/100\n",
      "20208/20208 [==============================] - 0s 19us/step - loss: 0.3738 - acc: 0.8211 - val_loss: 0.3813 - val_acc: 0.8176\n",
      "Epoch 49/100\n",
      "20208/20208 [==============================] - 0s 19us/step - loss: 0.3738 - acc: 0.8212 - val_loss: 0.3812 - val_acc: 0.8178\n",
      "Epoch 50/100\n",
      "20208/20208 [==============================] - 0s 19us/step - loss: 0.3738 - acc: 0.8210 - val_loss: 0.3812 - val_acc: 0.8182\n",
      "Epoch 51/100\n",
      "20208/20208 [==============================] - 0s 19us/step - loss: 0.3738 - acc: 0.8207 - val_loss: 0.3813 - val_acc: 0.8182\n",
      "Epoch 52/100\n",
      "20208/20208 [==============================] - 0s 19us/step - loss: 0.3738 - acc: 0.8212 - val_loss: 0.3812 - val_acc: 0.8174\n",
      "Epoch 53/100\n",
      "20208/20208 [==============================] - 0s 19us/step - loss: 0.3738 - acc: 0.8214 - val_loss: 0.3813 - val_acc: 0.8180\n",
      "Epoch 54/100\n",
      "20208/20208 [==============================] - 0s 19us/step - loss: 0.3738 - acc: 0.8213 - val_loss: 0.3812 - val_acc: 0.8176\n",
      "Epoch 55/100\n",
      "20208/20208 [==============================] - 0s 18us/step - loss: 0.3738 - acc: 0.8210 - val_loss: 0.3814 - val_acc: 0.8178\n",
      "Epoch 56/100\n",
      "20208/20208 [==============================] - 0s 19us/step - loss: 0.3738 - acc: 0.8213 - val_loss: 0.3812 - val_acc: 0.8180\n",
      "Epoch 57/100\n",
      "20208/20208 [==============================] - 0s 18us/step - loss: 0.3738 - acc: 0.8211 - val_loss: 0.3812 - val_acc: 0.8180\n",
      "Epoch 58/100\n",
      "20208/20208 [==============================] - 0s 18us/step - loss: 0.3738 - acc: 0.8209 - val_loss: 0.3813 - val_acc: 0.8178\n",
      "Epoch 59/100\n"
     ]
    },
    {
     "name": "stdout",
     "output_type": "stream",
     "text": [
      "20208/20208 [==============================] - 0s 21us/step - loss: 0.3738 - acc: 0.8212 - val_loss: 0.3812 - val_acc: 0.8178\n",
      "Epoch 60/100\n",
      "20208/20208 [==============================] - 0s 19us/step - loss: 0.3738 - acc: 0.8214 - val_loss: 0.3812 - val_acc: 0.8178\n",
      "Epoch 61/100\n",
      "20208/20208 [==============================] - 0s 19us/step - loss: 0.3738 - acc: 0.8209 - val_loss: 0.3812 - val_acc: 0.8178\n",
      "Epoch 62/100\n",
      "20208/20208 [==============================] - 0s 20us/step - loss: 0.3738 - acc: 0.8217 - val_loss: 0.3811 - val_acc: 0.8182\n",
      "Epoch 63/100\n",
      "20208/20208 [==============================] - 0s 19us/step - loss: 0.3738 - acc: 0.8213 - val_loss: 0.3812 - val_acc: 0.8180\n",
      "Epoch 64/100\n",
      "20208/20208 [==============================] - 0s 20us/step - loss: 0.3738 - acc: 0.8211 - val_loss: 0.3813 - val_acc: 0.8182\n",
      "Epoch 65/100\n",
      "20208/20208 [==============================] - 0s 20us/step - loss: 0.3738 - acc: 0.8210 - val_loss: 0.3812 - val_acc: 0.8180\n",
      "Epoch 66/100\n",
      "20208/20208 [==============================] - 0s 21us/step - loss: 0.3738 - acc: 0.8209 - val_loss: 0.3812 - val_acc: 0.8180\n",
      "Epoch 67/100\n",
      "20208/20208 [==============================] - 0s 20us/step - loss: 0.3738 - acc: 0.8208 - val_loss: 0.3812 - val_acc: 0.8180\n",
      "Epoch 68/100\n",
      "20208/20208 [==============================] - 0s 21us/step - loss: 0.3738 - acc: 0.8215 - val_loss: 0.3813 - val_acc: 0.8180\n",
      "Epoch 69/100\n",
      "20208/20208 [==============================] - 0s 19us/step - loss: 0.3738 - acc: 0.8211 - val_loss: 0.3812 - val_acc: 0.8180\n",
      "Epoch 70/100\n",
      "20208/20208 [==============================] - 0s 22us/step - loss: 0.3738 - acc: 0.8208 - val_loss: 0.3812 - val_acc: 0.8178\n",
      "Epoch 71/100\n",
      "20208/20208 [==============================] - 0s 21us/step - loss: 0.3738 - acc: 0.8215 - val_loss: 0.3811 - val_acc: 0.8184\n",
      "Epoch 72/100\n",
      "20208/20208 [==============================] - 0s 19us/step - loss: 0.3738 - acc: 0.8207 - val_loss: 0.3812 - val_acc: 0.8174\n",
      "Epoch 73/100\n",
      "20208/20208 [==============================] - 0s 18us/step - loss: 0.3738 - acc: 0.8208 - val_loss: 0.3812 - val_acc: 0.8182\n",
      "Epoch 74/100\n",
      "20208/20208 [==============================] - 0s 18us/step - loss: 0.3738 - acc: 0.8212 - val_loss: 0.3811 - val_acc: 0.8182\n",
      "Epoch 75/100\n",
      "20208/20208 [==============================] - 0s 17us/step - loss: 0.3738 - acc: 0.8208 - val_loss: 0.3812 - val_acc: 0.8176\n",
      "Epoch 76/100\n",
      "20208/20208 [==============================] - 0s 19us/step - loss: 0.3738 - acc: 0.8209 - val_loss: 0.3812 - val_acc: 0.8180\n",
      "Epoch 77/100\n",
      "20208/20208 [==============================] - 0s 19us/step - loss: 0.3738 - acc: 0.8205 - val_loss: 0.3813 - val_acc: 0.8178\n",
      "Epoch 78/100\n",
      "20208/20208 [==============================] - 0s 18us/step - loss: 0.3738 - acc: 0.8214 - val_loss: 0.3812 - val_acc: 0.8178\n",
      "Epoch 79/100\n",
      "20208/20208 [==============================] - 0s 18us/step - loss: 0.3738 - acc: 0.8216 - val_loss: 0.3812 - val_acc: 0.8180\n",
      "Epoch 80/100\n",
      "20208/20208 [==============================] - 0s 19us/step - loss: 0.3738 - acc: 0.8212 - val_loss: 0.3812 - val_acc: 0.8184\n",
      "Epoch 81/100\n",
      "20208/20208 [==============================] - 0s 18us/step - loss: 0.3738 - acc: 0.8211 - val_loss: 0.3812 - val_acc: 0.8182\n",
      "Epoch 82/100\n",
      "20208/20208 [==============================] - 0s 18us/step - loss: 0.3738 - acc: 0.8208 - val_loss: 0.3812 - val_acc: 0.8180\n",
      "Epoch 83/100\n",
      "20208/20208 [==============================] - 0s 18us/step - loss: 0.3738 - acc: 0.8213 - val_loss: 0.3813 - val_acc: 0.8180\n",
      "Epoch 84/100\n",
      "20208/20208 [==============================] - 0s 18us/step - loss: 0.3738 - acc: 0.8211 - val_loss: 0.3812 - val_acc: 0.8178\n",
      "Epoch 85/100\n",
      "20208/20208 [==============================] - 0s 19us/step - loss: 0.3738 - acc: 0.8210 - val_loss: 0.3813 - val_acc: 0.8182\n",
      "Epoch 86/100\n",
      "20208/20208 [==============================] - 0s 18us/step - loss: 0.3738 - acc: 0.8210 - val_loss: 0.3813 - val_acc: 0.8182\n",
      "Epoch 87/100\n",
      "20208/20208 [==============================] - 0s 18us/step - loss: 0.3738 - acc: 0.8213 - val_loss: 0.3812 - val_acc: 0.8178\n",
      "Epoch 88/100\n",
      "20208/20208 [==============================] - 0s 18us/step - loss: 0.3738 - acc: 0.8211 - val_loss: 0.3812 - val_acc: 0.8180\n",
      "Epoch 89/100\n",
      "20208/20208 [==============================] - 0s 18us/step - loss: 0.3738 - acc: 0.8210 - val_loss: 0.3813 - val_acc: 0.8182\n",
      "Epoch 90/100\n",
      "20208/20208 [==============================] - 0s 19us/step - loss: 0.3738 - acc: 0.8209 - val_loss: 0.3813 - val_acc: 0.8176\n",
      "Epoch 91/100\n",
      "20208/20208 [==============================] - 0s 18us/step - loss: 0.3738 - acc: 0.8208 - val_loss: 0.3814 - val_acc: 0.8180\n",
      "Epoch 92/100\n",
      "20208/20208 [==============================] - 0s 18us/step - loss: 0.3738 - acc: 0.8210 - val_loss: 0.3814 - val_acc: 0.8172\n",
      "Epoch 93/100\n",
      "20208/20208 [==============================] - 0s 17us/step - loss: 0.3738 - acc: 0.8213 - val_loss: 0.3813 - val_acc: 0.8176\n",
      "Epoch 94/100\n",
      "20208/20208 [==============================] - 0s 16us/step - loss: 0.3738 - acc: 0.8209 - val_loss: 0.3813 - val_acc: 0.8170\n",
      "Epoch 95/100\n",
      "20208/20208 [==============================] - 0s 16us/step - loss: 0.3738 - acc: 0.8216 - val_loss: 0.3813 - val_acc: 0.8172\n",
      "Epoch 96/100\n",
      "20208/20208 [==============================] - 0s 18us/step - loss: 0.3738 - acc: 0.8218 - val_loss: 0.3812 - val_acc: 0.8180\n",
      "Epoch 97/100\n",
      "20208/20208 [==============================] - 0s 17us/step - loss: 0.3738 - acc: 0.8211 - val_loss: 0.3814 - val_acc: 0.8176\n",
      "Epoch 98/100\n",
      "20208/20208 [==============================] - 0s 18us/step - loss: 0.3738 - acc: 0.8212 - val_loss: 0.3813 - val_acc: 0.8176\n",
      "Epoch 99/100\n",
      "20208/20208 [==============================] - 0s 17us/step - loss: 0.3738 - acc: 0.8210 - val_loss: 0.3813 - val_acc: 0.8176\n",
      "Epoch 100/100\n",
      "20208/20208 [==============================] - 0s 18us/step - loss: 0.3738 - acc: 0.8209 - val_loss: 0.3812 - val_acc: 0.8178\n"
     ]
    }
   ],
   "source": [
    "#train the model\n",
    "history=model.fit(x_train,y_train_one_hot, validation_data=(x_val, y_val_one_hot), batch_size=85,epochs=epochs)"
   ]
  },
  {
   "cell_type": "markdown",
   "metadata": {},
   "source": [
    "##### model accuracy"
   ]
  },
  {
   "cell_type": "code",
   "execution_count": 247,
   "metadata": {},
   "outputs": [
    {
     "name": "stdout",
     "output_type": "stream",
     "text": [
      "4977/4977 [==============================] - 0s 22us/step\n"
     ]
    }
   ],
   "source": [
    "evaluate = model.evaluate(x_test,y_test_one_hot,verbose=1)"
   ]
  },
  {
   "cell_type": "code",
   "execution_count": 248,
   "metadata": {},
   "outputs": [
    {
     "name": "stdout",
     "output_type": "stream",
     "text": [
      "Model Loss Rate: 0.35983706767333423\n",
      "Model accuracy Rate: 0.8241912799713146\n"
     ]
    }
   ],
   "source": [
    "#calculating model accuracy rate\n",
    "print('Model Loss Rate: ' +str(evaluate[0]))\n",
    "print('Model accuracy Rate: ' +str(evaluate[1]))"
   ]
  },
  {
   "cell_type": "code",
   "execution_count": 249,
   "metadata": {},
   "outputs": [],
   "source": [
    "y_predict = model.predict(x_test)\n",
    "y_expect = y_test_one_hot"
   ]
  },
  {
   "cell_type": "code",
   "execution_count": 250,
   "metadata": {},
   "outputs": [
    {
     "data": {
      "text/plain": [
       "array([[0.9867041 , 0.01329593],\n",
       "       [0.9899102 , 0.01008975],\n",
       "       [0.7215466 , 0.2784534 ],\n",
       "       ...,\n",
       "       [0.70447224, 0.2955278 ],\n",
       "       [0.9432098 , 0.05679019],\n",
       "       [0.9348823 , 0.06511771]], dtype=float32)"
      ]
     },
     "execution_count": 250,
     "metadata": {},
     "output_type": "execute_result"
    }
   ],
   "source": [
    "y_predict"
   ]
  },
  {
   "cell_type": "code",
   "execution_count": 251,
   "metadata": {},
   "outputs": [
    {
     "data": {
      "text/plain": [
       "array([[1., 0.],\n",
       "       [1., 0.],\n",
       "       [0., 1.],\n",
       "       ...,\n",
       "       [1., 0.],\n",
       "       [1., 0.],\n",
       "       [1., 0.]], dtype=float32)"
      ]
     },
     "execution_count": 251,
     "metadata": {},
     "output_type": "execute_result"
    }
   ],
   "source": [
    "y_expect"
   ]
  },
  {
   "cell_type": "code",
   "execution_count": 252,
   "metadata": {},
   "outputs": [],
   "source": [
    "target_names = ['0','1']"
   ]
  },
  {
   "cell_type": "code",
   "execution_count": 253,
   "metadata": {},
   "outputs": [],
   "source": [
    "y_predicted = []\n",
    "for x in y_predict:\n",
    "    if x[0] > 0.5:\n",
    "        y_predicted.append(0)\n",
    "    else:\n",
    "        y_predicted.append(1)"
   ]
  },
  {
   "cell_type": "markdown",
   "metadata": {},
   "source": [
    "##### Precission And Recall"
   ]
  },
  {
   "cell_type": "code",
   "execution_count": 254,
   "metadata": {},
   "outputs": [
    {
     "name": "stdout",
     "output_type": "stream",
     "text": [
      "             precision    recall  f1-score   support\n",
      "\n",
      "          0       0.85      0.93      0.89      3709\n",
      "          1       0.71      0.53      0.60      1268\n",
      "\n",
      "avg / total       0.81      0.82      0.82      4977\n",
      "\n"
     ]
    }
   ],
   "source": [
    "print(metrics.classification_report(y_test, y_predicted, target_names=target_names, digits = 2))"
   ]
  },
  {
   "cell_type": "markdown",
   "metadata": {},
   "source": [
    "- precision = TP/(TP+FP) <br>\n",
    "- recall = TP/(P)<br>\n",
    "> where TP = \"** True Postive**\" , FP = \"**False Positive**\", P = \"**total positive**\" \n",
    "\n",
    "- here high total recall and precision values says that model is predict most of the time correctly"
   ]
  },
  {
   "cell_type": "code",
   "execution_count": null,
   "metadata": {},
   "outputs": [],
   "source": []
  },
  {
   "cell_type": "markdown",
   "metadata": {},
   "source": [
    "### Check model  over fitting"
   ]
  },
  {
   "cell_type": "markdown",
   "metadata": {},
   "source": [
    "#### Plot Loss of training and validation data"
   ]
  },
  {
   "cell_type": "code",
   "execution_count": 199,
   "metadata": {},
   "outputs": [
    {
     "data": {
      "image/png": "[encoded data removed]",
      "text/plain": [
       "<Figure size 432x288 with 1 Axes>"
      ]
     },
     "metadata": {},
     "output_type": "display_data"
    }
   ],
   "source": [
    "\n",
    "plt.plot(history.history['val_loss'])\n",
    "plt.plot(history.history['loss'])\n",
    "plt.title(\"validatin loss rate\")\n",
    "plt.ylabel('Loss rate')\n",
    "plt.xlabel('epochs')\n",
    "plt.legend(['val','train'],loc='upper left')\n",
    "plt.show()"
   ]
  },
  {
   "cell_type": "markdown",
   "metadata": {},
   "source": [
    "#### plot accuracy of training and validation set"
   ]
  },
  {
   "cell_type": "code",
   "execution_count": 197,
   "metadata": {},
   "outputs": [
    {
     "data": {
      "image/png": "[encoded data removed]",
      "text/plain": [
       "<Figure size 432x288 with 1 Axes>"
      ]
     },
     "metadata": {},
     "output_type": "display_data"
    }
   ],
   "source": [
    "plt.plot(history.history['val_acc'])\n",
    "plt.plot(history.history['acc'])\n",
    "plt.title(\"validatin loss rate\")\n",
    "plt.ylabel('Loss rate')\n",
    "plt.xlabel('epochs')\n",
    "plt.legend(['val','train'],loc='upper right')\n",
    "plt.show()"
   ]
  },
  {
   "cell_type": "markdown",
   "metadata": {},
   "source": [
    "### conclution of logistic regression\n",
    "- no any overfitting detected\n",
    "- accuracy rate is :  0.8245931284744289"
   ]
  },
  {
   "cell_type": "code",
   "execution_count": null,
   "metadata": {},
   "outputs": [],
   "source": []
  },
  {
   "cell_type": "markdown",
   "metadata": {},
   "source": [
    "# 3. Neural Network"
   ]
  },
  {
   "cell_type": "code",
   "execution_count": 157,
   "metadata": {},
   "outputs": [],
   "source": [
    "batch_size = 85\n",
    "epochs = 500\n",
    "\n",
    "#num of neurons in  Each layer\n",
    "layer_1 = 13\n",
    "layer_2 = 32\n",
    "layer_3 = 32\n",
    "layer_4 = 2"
   ]
  },
  {
   "cell_type": "code",
   "execution_count": 158,
   "metadata": {},
   "outputs": [],
   "source": [
    "#this nural network is also used above one hot encoded values\n",
    "modelN = Sequential()\n",
    "modelN.add(Dense(layer_2,input_dim=layer_1,activation='relu'))#hidden layer\n",
    "modelN.add(Dense(layer_3,input_dim=layer_2,activation='relu'))#hidden layer\n",
    "modelN.add(Dense(layer_4,input_dim = layer_3,activation = 'softmax'))#output layer\n",
    "modelN.compile(optimizer='sgd',loss='binary_crossentropy',metrics = ['accuracy'])"
   ]
  },
  {
   "cell_type": "code",
   "execution_count": 159,
   "metadata": {},
   "outputs": [
    {
     "name": "stdout",
     "output_type": "stream",
     "text": [
      "_________________________________________________________________\n",
      "Layer (type)                 Output Shape              Param #   \n",
      "=================================================================\n",
      "dense_38 (Dense)             (None, 32)                448       \n",
      "_________________________________________________________________\n",
      "dense_39 (Dense)             (None, 32)                1056      \n",
      "_________________________________________________________________\n",
      "dense_40 (Dense)             (None, 2)                 66        \n",
      "=================================================================\n",
      "Total params: 1,570\n",
      "Trainable params: 1,570\n",
      "Non-trainable params: 0\n",
      "_________________________________________________________________\n"
     ]
    }
   ],
   "source": [
    "modelN.summary()"
   ]
  },
  {
   "cell_type": "code",
   "execution_count": 160,
   "metadata": {},
   "outputs": [
    {
     "name": "stdout",
     "output_type": "stream",
     "text": [
      "Train on 20208 samples, validate on 4977 samples\n",
      "Epoch 1/500\n",
      "20208/20208 [==============================] - 1s 41us/step - loss: 0.5818 - acc: 0.6953 - val_loss: 0.4771 - val_acc: 0.7593\n",
      "Epoch 2/500\n",
      "20208/20208 [==============================] - 0s 19us/step - loss: 0.4314 - acc: 0.7987 - val_loss: 0.4112 - val_acc: 0.8121\n",
      "Epoch 3/500\n",
      "20208/20208 [==============================] - 0s 19us/step - loss: 0.3938 - acc: 0.8177 - val_loss: 0.3925 - val_acc: 0.8154\n",
      "Epoch 4/500\n",
      "20208/20208 [==============================] - 0s 18us/step - loss: 0.3813 - acc: 0.8197 - val_loss: 0.3857 - val_acc: 0.8164\n",
      "Epoch 5/500\n",
      "20208/20208 [==============================] - 0s 20us/step - loss: 0.3750 - acc: 0.8212 - val_loss: 0.3810 - val_acc: 0.8178\n",
      "Epoch 6/500\n",
      "20208/20208 [==============================] - 0s 21us/step - loss: 0.3707 - acc: 0.8242 - val_loss: 0.3776 - val_acc: 0.8204\n",
      "Epoch 7/500\n",
      "20208/20208 [==============================] - 0s 21us/step - loss: 0.3675 - acc: 0.8269 - val_loss: 0.3752 - val_acc: 0.8212\n",
      "Epoch 8/500\n",
      "20208/20208 [==============================] - 0s 19us/step - loss: 0.3649 - acc: 0.8281 - val_loss: 0.3728 - val_acc: 0.8244\n",
      "Epoch 9/500\n",
      "20208/20208 [==============================] - 0s 19us/step - loss: 0.3628 - acc: 0.8292 - val_loss: 0.3711 - val_acc: 0.8254\n",
      "Epoch 10/500\n",
      "20208/20208 [==============================] - 0s 18us/step - loss: 0.3609 - acc: 0.8305 - val_loss: 0.3698 - val_acc: 0.8248\n",
      "Epoch 11/500\n",
      "20208/20208 [==============================] - 0s 19us/step - loss: 0.3594 - acc: 0.8306 - val_loss: 0.3685 - val_acc: 0.8258\n",
      "Epoch 12/500\n",
      "20208/20208 [==============================] - 0s 19us/step - loss: 0.3581 - acc: 0.8315 - val_loss: 0.3672 - val_acc: 0.8280\n",
      "Epoch 13/500\n",
      "20208/20208 [==============================] - 0s 22us/step - loss: 0.3569 - acc: 0.8325 - val_loss: 0.3662 - val_acc: 0.8288\n",
      "Epoch 14/500\n",
      "20208/20208 [==============================] - 0s 20us/step - loss: 0.3557 - acc: 0.8323 - val_loss: 0.3663 - val_acc: 0.8276\n",
      "Epoch 15/500\n",
      "20208/20208 [==============================] - 0s 16us/step - loss: 0.3548 - acc: 0.8335 - val_loss: 0.3644 - val_acc: 0.8300\n",
      "Epoch 16/500\n",
      "20208/20208 [==============================] - 0s 19us/step - loss: 0.3538 - acc: 0.8335 - val_loss: 0.3637 - val_acc: 0.8294\n",
      "Epoch 17/500\n",
      "20208/20208 [==============================] - 0s 21us/step - loss: 0.3529 - acc: 0.8348 - val_loss: 0.3630 - val_acc: 0.8298\n",
      "Epoch 18/500\n",
      "20208/20208 [==============================] - 0s 17us/step - loss: 0.3520 - acc: 0.8347 - val_loss: 0.3621 - val_acc: 0.8308\n",
      "Epoch 19/500\n",
      "20208/20208 [==============================] - 0s 17us/step - loss: 0.3513 - acc: 0.8354 - val_loss: 0.3616 - val_acc: 0.8286\n",
      "Epoch 20/500\n",
      "20208/20208 [==============================] - 0s 16us/step - loss: 0.3506 - acc: 0.8355 - val_loss: 0.3607 - val_acc: 0.8298\n",
      "Epoch 21/500\n",
      "20208/20208 [==============================] - 0s 18us/step - loss: 0.3497 - acc: 0.8368 - val_loss: 0.3604 - val_acc: 0.8306\n",
      "Epoch 22/500\n",
      "20208/20208 [==============================] - 0s 19us/step - loss: 0.3490 - acc: 0.8360 - val_loss: 0.3603 - val_acc: 0.8294\n",
      "Epoch 23/500\n",
      "20208/20208 [==============================] - 0s 17us/step - loss: 0.3483 - acc: 0.8380 - val_loss: 0.3591 - val_acc: 0.8308\n",
      "Epoch 24/500\n",
      "20208/20208 [==============================] - ETA: 0s - loss: 0.3493 - acc: 0.836 - 0s 17us/step - loss: 0.3479 - acc: 0.8373 - val_loss: 0.3586 - val_acc: 0.8306\n",
      "Epoch 25/500\n",
      "20208/20208 [==============================] - 0s 19us/step - loss: 0.3473 - acc: 0.8378 - val_loss: 0.3586 - val_acc: 0.8304\n",
      "Epoch 26/500\n",
      "20208/20208 [==============================] - 0s 21us/step - loss: 0.3467 - acc: 0.8377 - val_loss: 0.3576 - val_acc: 0.8294\n",
      "Epoch 27/500\n",
      "20208/20208 [==============================] - 0s 21us/step - loss: 0.3462 - acc: 0.8382 - val_loss: 0.3570 - val_acc: 0.8318\n",
      "Epoch 28/500\n",
      "20208/20208 [==============================] - 0s 19us/step - loss: 0.3456 - acc: 0.8385 - val_loss: 0.3568 - val_acc: 0.8318\n",
      "Epoch 29/500\n",
      "20208/20208 [==============================] - 0s 19us/step - loss: 0.3452 - acc: 0.8381 - val_loss: 0.3566 - val_acc: 0.8322\n",
      "Epoch 30/500\n",
      "20208/20208 [==============================] - 0s 19us/step - loss: 0.3447 - acc: 0.8389 - val_loss: 0.3555 - val_acc: 0.8310\n",
      "Epoch 31/500\n",
      "20208/20208 [==============================] - 0s 20us/step - loss: 0.3442 - acc: 0.8394 - val_loss: 0.3557 - val_acc: 0.8338\n",
      "Epoch 32/500\n",
      "20208/20208 [==============================] - 0s 22us/step - loss: 0.3437 - acc: 0.8391 - val_loss: 0.3554 - val_acc: 0.8336\n",
      "Epoch 33/500\n",
      "20208/20208 [==============================] - 0s 21us/step - loss: 0.3432 - acc: 0.8397 - val_loss: 0.3544 - val_acc: 0.8316\n",
      "Epoch 34/500\n",
      "20208/20208 [==============================] - 0s 21us/step - loss: 0.3429 - acc: 0.8399 - val_loss: 0.3543 - val_acc: 0.8328\n",
      "Epoch 35/500\n",
      "20208/20208 [==============================] - 0s 21us/step - loss: 0.3424 - acc: 0.8400 - val_loss: 0.3544 - val_acc: 0.8316\n",
      "Epoch 36/500\n",
      "20208/20208 [==============================] - 0s 21us/step - loss: 0.3421 - acc: 0.8405 - val_loss: 0.3535 - val_acc: 0.8312\n",
      "Epoch 37/500\n",
      "20208/20208 [==============================] - 0s 18us/step - loss: 0.3417 - acc: 0.8408 - val_loss: 0.3535 - val_acc: 0.8324\n",
      "Epoch 38/500\n",
      "20208/20208 [==============================] - 0s 21us/step - loss: 0.3413 - acc: 0.8406 - val_loss: 0.3530 - val_acc: 0.8320\n",
      "Epoch 39/500\n",
      "20208/20208 [==============================] - 0s 19us/step - loss: 0.3409 - acc: 0.8416 - val_loss: 0.3524 - val_acc: 0.8318\n",
      "Epoch 40/500\n",
      "20208/20208 [==============================] - 0s 19us/step - loss: 0.3406 - acc: 0.8401 - val_loss: 0.3524 - val_acc: 0.8328\n",
      "Epoch 41/500\n",
      "20208/20208 [==============================] - 0s 16us/step - loss: 0.3402 - acc: 0.8419 - val_loss: 0.3516 - val_acc: 0.8322\n",
      "Epoch 42/500\n",
      "20208/20208 [==============================] - 0s 16us/step - loss: 0.3398 - acc: 0.8412 - val_loss: 0.3520 - val_acc: 0.8352\n",
      "Epoch 43/500\n",
      "20208/20208 [==============================] - 0s 16us/step - loss: 0.3395 - acc: 0.8412 - val_loss: 0.3514 - val_acc: 0.8334\n",
      "Epoch 44/500\n",
      "20208/20208 [==============================] - 0s 16us/step - loss: 0.3391 - acc: 0.8419 - val_loss: 0.3515 - val_acc: 0.8332\n",
      "Epoch 45/500\n",
      "20208/20208 [==============================] - 0s 16us/step - loss: 0.3389 - acc: 0.8417 - val_loss: 0.3512 - val_acc: 0.8332\n",
      "Epoch 46/500\n",
      "20208/20208 [==============================] - 0s 17us/step - loss: 0.3386 - acc: 0.8416 - val_loss: 0.3507 - val_acc: 0.8346\n",
      "Epoch 47/500\n",
      "20208/20208 [==============================] - 0s 16us/step - loss: 0.3382 - acc: 0.8422 - val_loss: 0.3504 - val_acc: 0.8344\n",
      "Epoch 48/500\n",
      "20208/20208 [==============================] - 0s 19us/step - loss: 0.3380 - acc: 0.8429 - val_loss: 0.3505 - val_acc: 0.8344\n",
      "Epoch 49/500\n",
      "20208/20208 [==============================] - 0s 17us/step - loss: 0.3376 - acc: 0.8431 - val_loss: 0.3501 - val_acc: 0.8328\n",
      "Epoch 50/500\n",
      "20208/20208 [==============================] - 0s 17us/step - loss: 0.3373 - acc: 0.8428 - val_loss: 0.3506 - val_acc: 0.8352\n",
      "Epoch 51/500\n",
      "20208/20208 [==============================] - 0s 17us/step - loss: 0.3370 - acc: 0.8432 - val_loss: 0.3499 - val_acc: 0.8338\n",
      "Epoch 52/500\n",
      "20208/20208 [==============================] - 0s 18us/step - loss: 0.3366 - acc: 0.8439 - val_loss: 0.3509 - val_acc: 0.8344\n",
      "Epoch 53/500\n",
      "20208/20208 [==============================] - 0s 16us/step - loss: 0.3364 - acc: 0.8421 - val_loss: 0.3496 - val_acc: 0.8346\n",
      "Epoch 54/500\n",
      "20208/20208 [==============================] - 0s 16us/step - loss: 0.3362 - acc: 0.8442 - val_loss: 0.3493 - val_acc: 0.8330\n",
      "Epoch 55/500\n",
      "20208/20208 [==============================] - 0s 17us/step - loss: 0.3359 - acc: 0.8438 - val_loss: 0.3494 - val_acc: 0.8360\n",
      "Epoch 56/500\n",
      "20208/20208 [==============================] - 0s 16us/step - loss: 0.3355 - acc: 0.8437 - val_loss: 0.3491 - val_acc: 0.8350\n",
      "Epoch 57/500\n",
      "20208/20208 [==============================] - 0s 17us/step - loss: 0.3354 - acc: 0.8444 - val_loss: 0.3489 - val_acc: 0.8356\n",
      "Epoch 58/500\n",
      "20208/20208 [==============================] - 0s 18us/step - loss: 0.3350 - acc: 0.8445 - val_loss: 0.3488 - val_acc: 0.8332\n",
      "Epoch 59/500\n"
     ]
    },
    {
     "name": "stdout",
     "output_type": "stream",
     "text": [
      "20208/20208 [==============================] - 0s 16us/step - loss: 0.3348 - acc: 0.8438 - val_loss: 0.3487 - val_acc: 0.8340\n",
      "Epoch 60/500\n",
      "20208/20208 [==============================] - 0s 16us/step - loss: 0.3345 - acc: 0.8445 - val_loss: 0.3486 - val_acc: 0.8356\n",
      "Epoch 61/500\n",
      "20208/20208 [==============================] - 0s 16us/step - loss: 0.3342 - acc: 0.8450 - val_loss: 0.3488 - val_acc: 0.8360\n",
      "Epoch 62/500\n",
      "20208/20208 [==============================] - 0s 16us/step - loss: 0.3341 - acc: 0.8448 - val_loss: 0.3480 - val_acc: 0.8308\n",
      "Epoch 63/500\n",
      "20208/20208 [==============================] - 0s 16us/step - loss: 0.3338 - acc: 0.8437 - val_loss: 0.3483 - val_acc: 0.8342\n",
      "Epoch 64/500\n",
      "20208/20208 [==============================] - 0s 16us/step - loss: 0.3336 - acc: 0.8446 - val_loss: 0.3485 - val_acc: 0.8350\n",
      "Epoch 65/500\n",
      "20208/20208 [==============================] - 0s 16us/step - loss: 0.3333 - acc: 0.8454 - val_loss: 0.3478 - val_acc: 0.8342\n",
      "Epoch 66/500\n",
      "20208/20208 [==============================] - 0s 17us/step - loss: 0.3330 - acc: 0.8455 - val_loss: 0.3482 - val_acc: 0.8356\n",
      "Epoch 67/500\n",
      "20208/20208 [==============================] - 0s 16us/step - loss: 0.3329 - acc: 0.8448 - val_loss: 0.3478 - val_acc: 0.8358\n",
      "Epoch 68/500\n",
      "20208/20208 [==============================] - 0s 16us/step - loss: 0.3326 - acc: 0.8451 - val_loss: 0.3480 - val_acc: 0.8371\n",
      "Epoch 69/500\n",
      "20208/20208 [==============================] - 0s 17us/step - loss: 0.3323 - acc: 0.8455 - val_loss: 0.3475 - val_acc: 0.8340\n",
      "Epoch 70/500\n",
      "20208/20208 [==============================] - 0s 17us/step - loss: 0.3322 - acc: 0.8454 - val_loss: 0.3477 - val_acc: 0.8362\n",
      "Epoch 71/500\n",
      "20208/20208 [==============================] - 0s 16us/step - loss: 0.3318 - acc: 0.8461 - val_loss: 0.3486 - val_acc: 0.8360\n",
      "Epoch 72/500\n",
      "20208/20208 [==============================] - 0s 18us/step - loss: 0.3315 - acc: 0.8446 - val_loss: 0.3471 - val_acc: 0.8320\n",
      "Epoch 73/500\n",
      "20208/20208 [==============================] - 0s 16us/step - loss: 0.3314 - acc: 0.8457 - val_loss: 0.3470 - val_acc: 0.8328\n",
      "Epoch 74/500\n",
      "20208/20208 [==============================] - 0s 17us/step - loss: 0.3311 - acc: 0.8460 - val_loss: 0.3485 - val_acc: 0.8377\n",
      "Epoch 75/500\n",
      "20208/20208 [==============================] - 0s 16us/step - loss: 0.3309 - acc: 0.8459 - val_loss: 0.3472 - val_acc: 0.8352\n",
      "Epoch 76/500\n",
      "20208/20208 [==============================] - 0s 16us/step - loss: 0.3308 - acc: 0.8465 - val_loss: 0.3468 - val_acc: 0.8350\n",
      "Epoch 77/500\n",
      "20208/20208 [==============================] - 0s 16us/step - loss: 0.3306 - acc: 0.8455 - val_loss: 0.3479 - val_acc: 0.8364\n",
      "Epoch 78/500\n",
      "20208/20208 [==============================] - 0s 16us/step - loss: 0.3302 - acc: 0.8456 - val_loss: 0.3465 - val_acc: 0.8316\n",
      "Epoch 79/500\n",
      "20208/20208 [==============================] - 0s 16us/step - loss: 0.3302 - acc: 0.8470 - val_loss: 0.3471 - val_acc: 0.8358\n",
      "Epoch 80/500\n",
      "20208/20208 [==============================] - 0s 16us/step - loss: 0.3300 - acc: 0.8454 - val_loss: 0.3469 - val_acc: 0.8368\n",
      "Epoch 81/500\n",
      "20208/20208 [==============================] - 0s 16us/step - loss: 0.3299 - acc: 0.8465 - val_loss: 0.3465 - val_acc: 0.8362\n",
      "Epoch 82/500\n",
      "20208/20208 [==============================] - 0s 16us/step - loss: 0.3295 - acc: 0.8472 - val_loss: 0.3456 - val_acc: 0.8328\n",
      "Epoch 83/500\n",
      "20208/20208 [==============================] - 0s 16us/step - loss: 0.3294 - acc: 0.8476 - val_loss: 0.3462 - val_acc: 0.8360\n",
      "Epoch 84/500\n",
      "20208/20208 [==============================] - 0s 16us/step - loss: 0.3293 - acc: 0.8474 - val_loss: 0.3465 - val_acc: 0.8352\n",
      "Epoch 85/500\n",
      "20208/20208 [==============================] - 0s 16us/step - loss: 0.3290 - acc: 0.8480 - val_loss: 0.3469 - val_acc: 0.8373\n",
      "Epoch 86/500\n",
      "20208/20208 [==============================] - 0s 18us/step - loss: 0.3287 - acc: 0.8481 - val_loss: 0.3457 - val_acc: 0.8338\n",
      "Epoch 87/500\n",
      "20208/20208 [==============================] - 0s 17us/step - loss: 0.3285 - acc: 0.8474 - val_loss: 0.3464 - val_acc: 0.8373\n",
      "Epoch 88/500\n",
      "20208/20208 [==============================] - 0s 16us/step - loss: 0.3283 - acc: 0.8468 - val_loss: 0.3453 - val_acc: 0.8344\n",
      "Epoch 89/500\n",
      "20208/20208 [==============================] - 0s 17us/step - loss: 0.3280 - acc: 0.8480 - val_loss: 0.3460 - val_acc: 0.8379\n",
      "Epoch 90/500\n",
      "20208/20208 [==============================] - 0s 18us/step - loss: 0.3280 - acc: 0.8477 - val_loss: 0.3457 - val_acc: 0.8356\n",
      "Epoch 91/500\n",
      "20208/20208 [==============================] - 0s 18us/step - loss: 0.3278 - acc: 0.8474 - val_loss: 0.3459 - val_acc: 0.8377\n",
      "Epoch 92/500\n",
      "20208/20208 [==============================] - 0s 17us/step - loss: 0.3277 - acc: 0.8481 - val_loss: 0.3452 - val_acc: 0.8360\n",
      "Epoch 93/500\n",
      "20208/20208 [==============================] - 0s 18us/step - loss: 0.3274 - acc: 0.8483 - val_loss: 0.3450 - val_acc: 0.8326\n",
      "Epoch 94/500\n",
      "20208/20208 [==============================] - 0s 18us/step - loss: 0.3272 - acc: 0.8492 - val_loss: 0.3454 - val_acc: 0.8371\n",
      "Epoch 95/500\n",
      "20208/20208 [==============================] - 0s 18us/step - loss: 0.3271 - acc: 0.8486 - val_loss: 0.3448 - val_acc: 0.8375\n",
      "Epoch 96/500\n",
      "20208/20208 [==============================] - 0s 19us/step - loss: 0.3270 - acc: 0.8485 - val_loss: 0.3452 - val_acc: 0.8389\n",
      "Epoch 97/500\n",
      "20208/20208 [==============================] - 0s 16us/step - loss: 0.3267 - acc: 0.8491 - val_loss: 0.3445 - val_acc: 0.8362\n",
      "Epoch 98/500\n",
      "20208/20208 [==============================] - 0s 16us/step - loss: 0.3266 - acc: 0.8483 - val_loss: 0.3447 - val_acc: 0.8385\n",
      "Epoch 99/500\n",
      "20208/20208 [==============================] - 0s 16us/step - loss: 0.3264 - acc: 0.8486 - val_loss: 0.3445 - val_acc: 0.8375\n",
      "Epoch 100/500\n",
      "20208/20208 [==============================] - 0s 16us/step - loss: 0.3263 - acc: 0.8496 - val_loss: 0.3453 - val_acc: 0.8385\n",
      "Epoch 101/500\n",
      "20208/20208 [==============================] - 0s 16us/step - loss: 0.3262 - acc: 0.8481 - val_loss: 0.3438 - val_acc: 0.8362\n",
      "Epoch 102/500\n",
      "20208/20208 [==============================] - 0s 16us/step - loss: 0.3261 - acc: 0.8483 - val_loss: 0.3440 - val_acc: 0.8368\n",
      "Epoch 103/500\n",
      "20208/20208 [==============================] - 0s 16us/step - loss: 0.3259 - acc: 0.8486 - val_loss: 0.3437 - val_acc: 0.8385\n",
      "Epoch 104/500\n",
      "20208/20208 [==============================] - 0s 16us/step - loss: 0.3255 - acc: 0.8489 - val_loss: 0.3444 - val_acc: 0.8387\n",
      "Epoch 105/500\n",
      "20208/20208 [==============================] - 0s 16us/step - loss: 0.3254 - acc: 0.8494 - val_loss: 0.3439 - val_acc: 0.8397\n",
      "Epoch 106/500\n",
      "20208/20208 [==============================] - 0s 16us/step - loss: 0.3254 - acc: 0.8500 - val_loss: 0.3440 - val_acc: 0.8387\n",
      "Epoch 107/500\n",
      "20208/20208 [==============================] - 0s 16us/step - loss: 0.3252 - acc: 0.8505 - val_loss: 0.3437 - val_acc: 0.8383\n",
      "Epoch 108/500\n",
      "20208/20208 [==============================] - 0s 16us/step - loss: 0.3251 - acc: 0.8485 - val_loss: 0.3435 - val_acc: 0.8389\n",
      "Epoch 109/500\n",
      "20208/20208 [==============================] - 0s 16us/step - loss: 0.3248 - acc: 0.8499 - val_loss: 0.3437 - val_acc: 0.8399\n",
      "Epoch 110/500\n",
      "20208/20208 [==============================] - 0s 16us/step - loss: 0.3247 - acc: 0.8490 - val_loss: 0.3436 - val_acc: 0.8381\n",
      "Epoch 111/500\n",
      "20208/20208 [==============================] - 0s 16us/step - loss: 0.3246 - acc: 0.8495 - val_loss: 0.3446 - val_acc: 0.8389\n",
      "Epoch 112/500\n",
      "20208/20208 [==============================] - 0s 16us/step - loss: 0.3245 - acc: 0.8499 - val_loss: 0.3438 - val_acc: 0.8381\n",
      "Epoch 113/500\n",
      "20208/20208 [==============================] - 0s 16us/step - loss: 0.3244 - acc: 0.8497 - val_loss: 0.3436 - val_acc: 0.8393\n",
      "Epoch 114/500\n",
      "20208/20208 [==============================] - 0s 16us/step - loss: 0.3239 - acc: 0.8503 - val_loss: 0.3458 - val_acc: 0.8371\n",
      "Epoch 115/500\n",
      "20208/20208 [==============================] - 0s 16us/step - loss: 0.3241 - acc: 0.8500 - val_loss: 0.3431 - val_acc: 0.8407\n",
      "Epoch 116/500\n",
      "20208/20208 [==============================] - 0s 16us/step - loss: 0.3238 - acc: 0.8504 - val_loss: 0.3437 - val_acc: 0.8407\n",
      "Epoch 117/500\n",
      "20208/20208 [==============================] - 0s 16us/step - loss: 0.3238 - acc: 0.8507 - val_loss: 0.3438 - val_acc: 0.8405\n"
     ]
    },
    {
     "name": "stdout",
     "output_type": "stream",
     "text": [
      "Epoch 118/500\n",
      "20208/20208 [==============================] - 0s 16us/step - loss: 0.3236 - acc: 0.8503 - val_loss: 0.3433 - val_acc: 0.8403\n",
      "Epoch 119/500\n",
      "20208/20208 [==============================] - 0s 15us/step - loss: 0.3235 - acc: 0.8506 - val_loss: 0.3427 - val_acc: 0.8405\n",
      "Epoch 120/500\n",
      "20208/20208 [==============================] - 0s 16us/step - loss: 0.3233 - acc: 0.8510 - val_loss: 0.3428 - val_acc: 0.8397\n",
      "Epoch 121/500\n",
      "20208/20208 [==============================] - 0s 16us/step - loss: 0.3233 - acc: 0.8499 - val_loss: 0.3433 - val_acc: 0.8413\n",
      "Epoch 122/500\n",
      "20208/20208 [==============================] - 0s 16us/step - loss: 0.3231 - acc: 0.8502 - val_loss: 0.3432 - val_acc: 0.8399\n",
      "Epoch 123/500\n",
      "20208/20208 [==============================] - 0s 15us/step - loss: 0.3231 - acc: 0.8505 - val_loss: 0.3427 - val_acc: 0.8413\n",
      "Epoch 124/500\n",
      "20208/20208 [==============================] - 0s 16us/step - loss: 0.3229 - acc: 0.8503 - val_loss: 0.3434 - val_acc: 0.8397\n",
      "Epoch 125/500\n",
      "20208/20208 [==============================] - 0s 16us/step - loss: 0.3229 - acc: 0.8509 - val_loss: 0.3426 - val_acc: 0.8403\n",
      "Epoch 126/500\n",
      "20208/20208 [==============================] - 0s 16us/step - loss: 0.3226 - acc: 0.8501 - val_loss: 0.3433 - val_acc: 0.8395\n",
      "Epoch 127/500\n",
      "20208/20208 [==============================] - 0s 16us/step - loss: 0.3225 - acc: 0.8513 - val_loss: 0.3432 - val_acc: 0.8411\n",
      "Epoch 128/500\n",
      "20208/20208 [==============================] - 0s 15us/step - loss: 0.3223 - acc: 0.8521 - val_loss: 0.3433 - val_acc: 0.8405\n",
      "Epoch 129/500\n",
      "20208/20208 [==============================] - 0s 16us/step - loss: 0.3224 - acc: 0.8496 - val_loss: 0.3427 - val_acc: 0.8423\n",
      "Epoch 130/500\n",
      "20208/20208 [==============================] - 0s 16us/step - loss: 0.3221 - acc: 0.8509 - val_loss: 0.3427 - val_acc: 0.8393\n",
      "Epoch 131/500\n",
      "20208/20208 [==============================] - 0s 17us/step - loss: 0.3221 - acc: 0.8514 - val_loss: 0.3429 - val_acc: 0.8409\n",
      "Epoch 132/500\n",
      "20208/20208 [==============================] - 0s 16us/step - loss: 0.3218 - acc: 0.8513 - val_loss: 0.3427 - val_acc: 0.8417\n",
      "Epoch 133/500\n",
      "20208/20208 [==============================] - 0s 16us/step - loss: 0.3219 - acc: 0.8513 - val_loss: 0.3421 - val_acc: 0.8415\n",
      "Epoch 134/500\n",
      "20208/20208 [==============================] - 0s 17us/step - loss: 0.3219 - acc: 0.8498 - val_loss: 0.3420 - val_acc: 0.8395\n",
      "Epoch 135/500\n",
      "20208/20208 [==============================] - 0s 16us/step - loss: 0.3217 - acc: 0.8509 - val_loss: 0.3424 - val_acc: 0.8409\n",
      "Epoch 136/500\n",
      "20208/20208 [==============================] - 0s 16us/step - loss: 0.3214 - acc: 0.8505 - val_loss: 0.3435 - val_acc: 0.8405\n",
      "Epoch 137/500\n",
      "20208/20208 [==============================] - 0s 16us/step - loss: 0.3213 - acc: 0.8511 - val_loss: 0.3424 - val_acc: 0.8419\n",
      "Epoch 138/500\n",
      "20208/20208 [==============================] - 0s 16us/step - loss: 0.3212 - acc: 0.8513 - val_loss: 0.3420 - val_acc: 0.8399\n",
      "Epoch 139/500\n",
      "20208/20208 [==============================] - 0s 16us/step - loss: 0.3212 - acc: 0.8519 - val_loss: 0.3425 - val_acc: 0.8409\n",
      "Epoch 140/500\n",
      "20208/20208 [==============================] - 0s 16us/step - loss: 0.3209 - acc: 0.8530 - val_loss: 0.3416 - val_acc: 0.8415\n",
      "Epoch 141/500\n",
      "20208/20208 [==============================] - 0s 16us/step - loss: 0.3209 - acc: 0.8517 - val_loss: 0.3416 - val_acc: 0.8425\n",
      "Epoch 142/500\n",
      "20208/20208 [==============================] - 0s 16us/step - loss: 0.3208 - acc: 0.8515 - val_loss: 0.3432 - val_acc: 0.8387\n",
      "Epoch 143/500\n",
      "20208/20208 [==============================] - 0s 16us/step - loss: 0.3208 - acc: 0.8520 - val_loss: 0.3418 - val_acc: 0.8421\n",
      "Epoch 144/500\n",
      "20208/20208 [==============================] - 0s 16us/step - loss: 0.3205 - acc: 0.8511 - val_loss: 0.3419 - val_acc: 0.8407\n",
      "Epoch 145/500\n",
      "20208/20208 [==============================] - 0s 16us/step - loss: 0.3201 - acc: 0.8533 - val_loss: 0.3433 - val_acc: 0.8399\n",
      "Epoch 146/500\n",
      "20208/20208 [==============================] - 0s 16us/step - loss: 0.3204 - acc: 0.8522 - val_loss: 0.3414 - val_acc: 0.8423\n",
      "Epoch 147/500\n",
      "20208/20208 [==============================] - 0s 16us/step - loss: 0.3202 - acc: 0.8523 - val_loss: 0.3422 - val_acc: 0.8403\n",
      "Epoch 148/500\n",
      "20208/20208 [==============================] - 0s 16us/step - loss: 0.3202 - acc: 0.8512 - val_loss: 0.3412 - val_acc: 0.8411\n",
      "Epoch 149/500\n",
      "20208/20208 [==============================] - 0s 16us/step - loss: 0.3200 - acc: 0.8529 - val_loss: 0.3414 - val_acc: 0.8411\n",
      "Epoch 150/500\n",
      "20208/20208 [==============================] - 0s 17us/step - loss: 0.3201 - acc: 0.8525 - val_loss: 0.3435 - val_acc: 0.8381\n",
      "Epoch 151/500\n",
      "20208/20208 [==============================] - 0s 16us/step - loss: 0.3197 - acc: 0.8523 - val_loss: 0.3418 - val_acc: 0.8417\n",
      "Epoch 152/500\n",
      "20208/20208 [==============================] - 0s 15us/step - loss: 0.3197 - acc: 0.8531 - val_loss: 0.3415 - val_acc: 0.8435\n",
      "Epoch 153/500\n",
      "20208/20208 [==============================] - 0s 16us/step - loss: 0.3196 - acc: 0.8516 - val_loss: 0.3414 - val_acc: 0.8417\n",
      "Epoch 154/500\n",
      "20208/20208 [==============================] - 0s 15us/step - loss: 0.3196 - acc: 0.8518 - val_loss: 0.3419 - val_acc: 0.8435\n",
      "Epoch 155/500\n",
      "20208/20208 [==============================] - 0s 16us/step - loss: 0.3195 - acc: 0.8522 - val_loss: 0.3411 - val_acc: 0.8421\n",
      "Epoch 156/500\n",
      "20208/20208 [==============================] - 0s 16us/step - loss: 0.3193 - acc: 0.8521 - val_loss: 0.3417 - val_acc: 0.8435\n",
      "Epoch 157/500\n",
      "20208/20208 [==============================] - 0s 16us/step - loss: 0.3192 - acc: 0.8527 - val_loss: 0.3410 - val_acc: 0.8409\n",
      "Epoch 158/500\n",
      "20208/20208 [==============================] - 0s 16us/step - loss: 0.3192 - acc: 0.8525 - val_loss: 0.3412 - val_acc: 0.8435\n",
      "Epoch 159/500\n",
      "20208/20208 [==============================] - 0s 16us/step - loss: 0.3189 - acc: 0.8530 - val_loss: 0.3411 - val_acc: 0.8433\n",
      "Epoch 160/500\n",
      "20208/20208 [==============================] - 0s 16us/step - loss: 0.3188 - acc: 0.8520 - val_loss: 0.3414 - val_acc: 0.8425\n",
      "Epoch 161/500\n",
      "20208/20208 [==============================] - 0s 16us/step - loss: 0.3188 - acc: 0.8521 - val_loss: 0.3413 - val_acc: 0.8421\n",
      "Epoch 162/500\n",
      "20208/20208 [==============================] - 0s 16us/step - loss: 0.3185 - acc: 0.8532 - val_loss: 0.3410 - val_acc: 0.8417\n",
      "Epoch 163/500\n",
      "20208/20208 [==============================] - 0s 16us/step - loss: 0.3186 - acc: 0.8532 - val_loss: 0.3406 - val_acc: 0.8421\n",
      "Epoch 164/500\n",
      "20208/20208 [==============================] - 0s 16us/step - loss: 0.3185 - acc: 0.8526 - val_loss: 0.3426 - val_acc: 0.8393\n",
      "Epoch 165/500\n",
      "20208/20208 [==============================] - 0s 16us/step - loss: 0.3184 - acc: 0.8511 - val_loss: 0.3410 - val_acc: 0.8419\n",
      "Epoch 166/500\n",
      "20208/20208 [==============================] - 0s 16us/step - loss: 0.3183 - acc: 0.8518 - val_loss: 0.3405 - val_acc: 0.8431\n",
      "Epoch 167/500\n",
      "20208/20208 [==============================] - 0s 16us/step - loss: 0.3181 - acc: 0.8538 - val_loss: 0.3413 - val_acc: 0.8429\n",
      "Epoch 168/500\n",
      "20208/20208 [==============================] - 0s 16us/step - loss: 0.3178 - acc: 0.8528 - val_loss: 0.3402 - val_acc: 0.8435\n",
      "Epoch 169/500\n",
      "20208/20208 [==============================] - 0s 16us/step - loss: 0.3181 - acc: 0.8520 - val_loss: 0.3407 - val_acc: 0.8423\n",
      "Epoch 170/500\n",
      "20208/20208 [==============================] - 0s 16us/step - loss: 0.3178 - acc: 0.8527 - val_loss: 0.3431 - val_acc: 0.8397\n",
      "Epoch 171/500\n",
      "20208/20208 [==============================] - 0s 16us/step - loss: 0.3178 - acc: 0.8527 - val_loss: 0.3412 - val_acc: 0.8423\n",
      "Epoch 172/500\n",
      "20208/20208 [==============================] - 0s 16us/step - loss: 0.3178 - acc: 0.8543 - val_loss: 0.3415 - val_acc: 0.8427\n",
      "Epoch 173/500\n",
      "20208/20208 [==============================] - 0s 16us/step - loss: 0.3175 - acc: 0.8544 - val_loss: 0.3403 - val_acc: 0.8423\n",
      "Epoch 174/500\n",
      "20208/20208 [==============================] - 0s 16us/step - loss: 0.3175 - acc: 0.8525 - val_loss: 0.3409 - val_acc: 0.8439\n",
      "Epoch 175/500\n",
      "20208/20208 [==============================] - 0s 16us/step - loss: 0.3176 - acc: 0.8542 - val_loss: 0.3405 - val_acc: 0.8417\n",
      "Epoch 176/500\n"
     ]
    },
    {
     "name": "stdout",
     "output_type": "stream",
     "text": [
      "20208/20208 [==============================] - 0s 16us/step - loss: 0.3173 - acc: 0.8539 - val_loss: 0.3405 - val_acc: 0.8431\n",
      "Epoch 177/500\n",
      "20208/20208 [==============================] - 0s 16us/step - loss: 0.3172 - acc: 0.8531 - val_loss: 0.3411 - val_acc: 0.8419\n",
      "Epoch 178/500\n",
      "20208/20208 [==============================] - 0s 15us/step - loss: 0.3170 - acc: 0.8536 - val_loss: 0.3412 - val_acc: 0.8437\n",
      "Epoch 179/500\n",
      "20208/20208 [==============================] - 0s 16us/step - loss: 0.3171 - acc: 0.8540 - val_loss: 0.3410 - val_acc: 0.8429\n",
      "Epoch 180/500\n",
      "20208/20208 [==============================] - 0s 16us/step - loss: 0.3169 - acc: 0.8541 - val_loss: 0.3404 - val_acc: 0.8435\n",
      "Epoch 181/500\n",
      "20208/20208 [==============================] - 0s 16us/step - loss: 0.3170 - acc: 0.8531 - val_loss: 0.3432 - val_acc: 0.8391\n",
      "Epoch 182/500\n",
      "20208/20208 [==============================] - 0s 16us/step - loss: 0.3167 - acc: 0.8547 - val_loss: 0.3406 - val_acc: 0.8415\n",
      "Epoch 183/500\n",
      "20208/20208 [==============================] - 0s 16us/step - loss: 0.3163 - acc: 0.8538 - val_loss: 0.3404 - val_acc: 0.8437\n",
      "Epoch 184/500\n",
      "20208/20208 [==============================] - 0s 16us/step - loss: 0.3167 - acc: 0.8538 - val_loss: 0.3403 - val_acc: 0.8457\n",
      "Epoch 185/500\n",
      "20208/20208 [==============================] - 0s 16us/step - loss: 0.3164 - acc: 0.8545 - val_loss: 0.3432 - val_acc: 0.8389\n",
      "Epoch 186/500\n",
      "20208/20208 [==============================] - 0s 16us/step - loss: 0.3166 - acc: 0.8538 - val_loss: 0.3417 - val_acc: 0.8425\n",
      "Epoch 187/500\n",
      "20208/20208 [==============================] - 0s 16us/step - loss: 0.3163 - acc: 0.8548 - val_loss: 0.3398 - val_acc: 0.8443\n",
      "Epoch 188/500\n",
      "20208/20208 [==============================] - 0s 16us/step - loss: 0.3160 - acc: 0.8525 - val_loss: 0.3403 - val_acc: 0.8433\n",
      "Epoch 189/500\n",
      "20208/20208 [==============================] - 0s 15us/step - loss: 0.3162 - acc: 0.8532 - val_loss: 0.3405 - val_acc: 0.8441\n",
      "Epoch 190/500\n",
      "20208/20208 [==============================] - 0s 16us/step - loss: 0.3162 - acc: 0.8550 - val_loss: 0.3398 - val_acc: 0.8455\n",
      "Epoch 191/500\n",
      "20208/20208 [==============================] - 0s 16us/step - loss: 0.3160 - acc: 0.8541 - val_loss: 0.3417 - val_acc: 0.8401\n",
      "Epoch 192/500\n",
      "20208/20208 [==============================] - 0s 16us/step - loss: 0.3161 - acc: 0.8537 - val_loss: 0.3397 - val_acc: 0.8441\n",
      "Epoch 193/500\n",
      "20208/20208 [==============================] - 0s 16us/step - loss: 0.3159 - acc: 0.8539 - val_loss: 0.3406 - val_acc: 0.8451\n",
      "Epoch 194/500\n",
      "20208/20208 [==============================] - 0s 16us/step - loss: 0.3157 - acc: 0.8543 - val_loss: 0.3401 - val_acc: 0.8457\n",
      "Epoch 195/500\n",
      "20208/20208 [==============================] - 0s 16us/step - loss: 0.3159 - acc: 0.8534 - val_loss: 0.3400 - val_acc: 0.8431\n",
      "Epoch 196/500\n",
      "20208/20208 [==============================] - 0s 16us/step - loss: 0.3155 - acc: 0.8546 - val_loss: 0.3411 - val_acc: 0.8433\n",
      "Epoch 197/500\n",
      "20208/20208 [==============================] - 0s 16us/step - loss: 0.3155 - acc: 0.8545 - val_loss: 0.3429 - val_acc: 0.8389\n",
      "Epoch 198/500\n",
      "20208/20208 [==============================] - 0s 16us/step - loss: 0.3153 - acc: 0.8543 - val_loss: 0.3397 - val_acc: 0.8455\n",
      "Epoch 199/500\n",
      "20208/20208 [==============================] - 0s 16us/step - loss: 0.3154 - acc: 0.8537 - val_loss: 0.3398 - val_acc: 0.8447\n",
      "Epoch 200/500\n",
      "20208/20208 [==============================] - 0s 16us/step - loss: 0.3152 - acc: 0.8546 - val_loss: 0.3402 - val_acc: 0.8433\n",
      "Epoch 201/500\n",
      "20208/20208 [==============================] - 0s 16us/step - loss: 0.3151 - acc: 0.8556 - val_loss: 0.3400 - val_acc: 0.8427\n",
      "Epoch 202/500\n",
      "20208/20208 [==============================] - 0s 15us/step - loss: 0.3153 - acc: 0.8534 - val_loss: 0.3411 - val_acc: 0.8423\n",
      "Epoch 203/500\n",
      "20208/20208 [==============================] - 0s 15us/step - loss: 0.3147 - acc: 0.8550 - val_loss: 0.3406 - val_acc: 0.8433\n",
      "Epoch 204/500\n",
      "20208/20208 [==============================] - 0s 16us/step - loss: 0.3151 - acc: 0.8528 - val_loss: 0.3398 - val_acc: 0.8435\n",
      "Epoch 205/500\n",
      "20208/20208 [==============================] - 0s 16us/step - loss: 0.3147 - acc: 0.8545 - val_loss: 0.3457 - val_acc: 0.8373\n",
      "Epoch 206/500\n",
      "20208/20208 [==============================] - 0s 16us/step - loss: 0.3147 - acc: 0.8542 - val_loss: 0.3400 - val_acc: 0.8445\n",
      "Epoch 207/500\n",
      "20208/20208 [==============================] - 0s 16us/step - loss: 0.3148 - acc: 0.8543 - val_loss: 0.3399 - val_acc: 0.8445\n",
      "Epoch 208/500\n",
      "20208/20208 [==============================] - 0s 17us/step - loss: 0.3146 - acc: 0.8549 - val_loss: 0.3427 - val_acc: 0.8439\n",
      "Epoch 209/500\n",
      "20208/20208 [==============================] - 0s 18us/step - loss: 0.3145 - acc: 0.8553 - val_loss: 0.3397 - val_acc: 0.8475\n",
      "Epoch 210/500\n",
      "20208/20208 [==============================] - 0s 16us/step - loss: 0.3144 - acc: 0.8560 - val_loss: 0.3413 - val_acc: 0.8421\n",
      "Epoch 211/500\n",
      "20208/20208 [==============================] - 0s 16us/step - loss: 0.3144 - acc: 0.8544 - val_loss: 0.3401 - val_acc: 0.8449\n",
      "Epoch 212/500\n",
      "20208/20208 [==============================] - 0s 16us/step - loss: 0.3142 - acc: 0.8557 - val_loss: 0.3396 - val_acc: 0.8419\n",
      "Epoch 213/500\n",
      "20208/20208 [==============================] - 0s 16us/step - loss: 0.3141 - acc: 0.8564 - val_loss: 0.3400 - val_acc: 0.8455\n",
      "Epoch 214/500\n",
      "20208/20208 [==============================] - 0s 16us/step - loss: 0.3141 - acc: 0.8552 - val_loss: 0.3400 - val_acc: 0.8443\n",
      "Epoch 215/500\n",
      "20208/20208 [==============================] - 0s 16us/step - loss: 0.3140 - acc: 0.8554 - val_loss: 0.3395 - val_acc: 0.8465\n",
      "Epoch 216/500\n",
      "20208/20208 [==============================] - 0s 16us/step - loss: 0.3139 - acc: 0.8537 - val_loss: 0.3407 - val_acc: 0.8445\n",
      "Epoch 217/500\n",
      "20208/20208 [==============================] - 0s 16us/step - loss: 0.3140 - acc: 0.8547 - val_loss: 0.3398 - val_acc: 0.8441\n",
      "Epoch 218/500\n",
      "20208/20208 [==============================] - 0s 16us/step - loss: 0.3138 - acc: 0.8551 - val_loss: 0.3403 - val_acc: 0.8453\n",
      "Epoch 219/500\n",
      "20208/20208 [==============================] - 0s 16us/step - loss: 0.3136 - acc: 0.8539 - val_loss: 0.3391 - val_acc: 0.8473\n",
      "Epoch 220/500\n",
      "20208/20208 [==============================] - 0s 16us/step - loss: 0.3139 - acc: 0.8553 - val_loss: 0.3402 - val_acc: 0.8465\n",
      "Epoch 221/500\n",
      "20208/20208 [==============================] - 0s 16us/step - loss: 0.3136 - acc: 0.8543 - val_loss: 0.3404 - val_acc: 0.8449\n",
      "Epoch 222/500\n",
      "20208/20208 [==============================] - 0s 16us/step - loss: 0.3137 - acc: 0.8546 - val_loss: 0.3393 - val_acc: 0.8481\n",
      "Epoch 223/500\n",
      "20208/20208 [==============================] - 0s 16us/step - loss: 0.3134 - acc: 0.8554 - val_loss: 0.3421 - val_acc: 0.8421\n",
      "Epoch 224/500\n",
      "20208/20208 [==============================] - 0s 16us/step - loss: 0.3135 - acc: 0.8558 - val_loss: 0.3394 - val_acc: 0.8441\n",
      "Epoch 225/500\n",
      "20208/20208 [==============================] - 0s 16us/step - loss: 0.3134 - acc: 0.8550 - val_loss: 0.3401 - val_acc: 0.8435\n",
      "Epoch 226/500\n",
      "20208/20208 [==============================] - 0s 16us/step - loss: 0.3132 - acc: 0.8554 - val_loss: 0.3434 - val_acc: 0.8421\n",
      "Epoch 227/500\n",
      "20208/20208 [==============================] - 0s 16us/step - loss: 0.3130 - acc: 0.8556 - val_loss: 0.3407 - val_acc: 0.8443\n",
      "Epoch 228/500\n",
      "20208/20208 [==============================] - 0s 16us/step - loss: 0.3131 - acc: 0.8545 - val_loss: 0.3418 - val_acc: 0.8429\n",
      "Epoch 229/500\n",
      "20208/20208 [==============================] - 0s 16us/step - loss: 0.3133 - acc: 0.8545 - val_loss: 0.3399 - val_acc: 0.8453\n",
      "Epoch 230/500\n",
      "20208/20208 [==============================] - 0s 16us/step - loss: 0.3130 - acc: 0.8546 - val_loss: 0.3397 - val_acc: 0.8449\n",
      "Epoch 231/500\n",
      "20208/20208 [==============================] - 0s 16us/step - loss: 0.3131 - acc: 0.8554 - val_loss: 0.3406 - val_acc: 0.8451\n",
      "Epoch 232/500\n",
      "20208/20208 [==============================] - 0s 16us/step - loss: 0.3129 - acc: 0.8546 - val_loss: 0.3403 - val_acc: 0.8441\n",
      "Epoch 233/500\n",
      "20208/20208 [==============================] - 0s 16us/step - loss: 0.3126 - acc: 0.8558 - val_loss: 0.3396 - val_acc: 0.8465\n",
      "Epoch 234/500\n"
     ]
    },
    {
     "name": "stdout",
     "output_type": "stream",
     "text": [
      "20208/20208 [==============================] - 0s 16us/step - loss: 0.3129 - acc: 0.8552 - val_loss: 0.3401 - val_acc: 0.8427\n",
      "Epoch 235/500\n",
      "20208/20208 [==============================] - 0s 16us/step - loss: 0.3127 - acc: 0.8564 - val_loss: 0.3404 - val_acc: 0.8435\n",
      "Epoch 236/500\n",
      "20208/20208 [==============================] - 0s 16us/step - loss: 0.3127 - acc: 0.8554 - val_loss: 0.3401 - val_acc: 0.8449\n",
      "Epoch 237/500\n",
      "20208/20208 [==============================] - 0s 18us/step - loss: 0.3127 - acc: 0.8565 - val_loss: 0.3400 - val_acc: 0.8449\n",
      "Epoch 238/500\n",
      "20208/20208 [==============================] - 0s 16us/step - loss: 0.3125 - acc: 0.8560 - val_loss: 0.3400 - val_acc: 0.8471\n",
      "Epoch 239/500\n",
      "20208/20208 [==============================] - 0s 15us/step - loss: 0.3122 - acc: 0.8553 - val_loss: 0.3407 - val_acc: 0.8453\n",
      "Epoch 240/500\n",
      "20208/20208 [==============================] - 0s 16us/step - loss: 0.3124 - acc: 0.8559 - val_loss: 0.3423 - val_acc: 0.8441\n",
      "Epoch 241/500\n",
      "20208/20208 [==============================] - 0s 16us/step - loss: 0.3122 - acc: 0.8558 - val_loss: 0.3398 - val_acc: 0.8435\n",
      "Epoch 242/500\n",
      "20208/20208 [==============================] - 0s 16us/step - loss: 0.3123 - acc: 0.8553 - val_loss: 0.3398 - val_acc: 0.8465\n",
      "Epoch 243/500\n",
      "20208/20208 [==============================] - 0s 16us/step - loss: 0.3122 - acc: 0.8563 - val_loss: 0.3398 - val_acc: 0.8463\n",
      "Epoch 244/500\n",
      "20208/20208 [==============================] - 0s 16us/step - loss: 0.3121 - acc: 0.8568 - val_loss: 0.3400 - val_acc: 0.8449\n",
      "Epoch 245/500\n",
      "20208/20208 [==============================] - 0s 16us/step - loss: 0.3118 - acc: 0.8565 - val_loss: 0.3403 - val_acc: 0.8465\n",
      "Epoch 246/500\n",
      "20208/20208 [==============================] - 0s 16us/step - loss: 0.3120 - acc: 0.8563 - val_loss: 0.3397 - val_acc: 0.8455\n",
      "Epoch 247/500\n",
      "20208/20208 [==============================] - 0s 16us/step - loss: 0.3118 - acc: 0.8559 - val_loss: 0.3405 - val_acc: 0.8445\n",
      "Epoch 248/500\n",
      "20208/20208 [==============================] - 0s 16us/step - loss: 0.3117 - acc: 0.8563 - val_loss: 0.3398 - val_acc: 0.8443\n",
      "Epoch 249/500\n",
      "20208/20208 [==============================] - 0s 16us/step - loss: 0.3118 - acc: 0.8562 - val_loss: 0.3390 - val_acc: 0.8453\n",
      "Epoch 250/500\n",
      "20208/20208 [==============================] - 0s 16us/step - loss: 0.3115 - acc: 0.8562 - val_loss: 0.3401 - val_acc: 0.8455\n",
      "Epoch 251/500\n",
      "20208/20208 [==============================] - 0s 16us/step - loss: 0.3116 - acc: 0.8554 - val_loss: 0.3392 - val_acc: 0.8457\n",
      "Epoch 252/500\n",
      "20208/20208 [==============================] - 0s 16us/step - loss: 0.3115 - acc: 0.8558 - val_loss: 0.3404 - val_acc: 0.8435\n",
      "Epoch 253/500\n",
      "20208/20208 [==============================] - 0s 16us/step - loss: 0.3112 - acc: 0.8550 - val_loss: 0.3395 - val_acc: 0.8455\n",
      "Epoch 254/500\n",
      "20208/20208 [==============================] - 0s 16us/step - loss: 0.3113 - acc: 0.8565 - val_loss: 0.3395 - val_acc: 0.8447\n",
      "Epoch 255/500\n",
      "20208/20208 [==============================] - 0s 16us/step - loss: 0.3109 - acc: 0.8568 - val_loss: 0.3400 - val_acc: 0.8455\n",
      "Epoch 256/500\n",
      "20208/20208 [==============================] - 0s 17us/step - loss: 0.3114 - acc: 0.8561 - val_loss: 0.3405 - val_acc: 0.8441\n",
      "Epoch 257/500\n",
      "20208/20208 [==============================] - 0s 16us/step - loss: 0.3113 - acc: 0.8551 - val_loss: 0.3411 - val_acc: 0.8419\n",
      "Epoch 258/500\n",
      "20208/20208 [==============================] - 0s 16us/step - loss: 0.3109 - acc: 0.8567 - val_loss: 0.3405 - val_acc: 0.8461\n",
      "Epoch 259/500\n",
      "20208/20208 [==============================] - 0s 16us/step - loss: 0.3108 - acc: 0.8562 - val_loss: 0.3401 - val_acc: 0.8441\n",
      "Epoch 260/500\n",
      "20208/20208 [==============================] - 0s 16us/step - loss: 0.3108 - acc: 0.8571 - val_loss: 0.3398 - val_acc: 0.8425\n",
      "Epoch 261/500\n",
      "20208/20208 [==============================] - 0s 16us/step - loss: 0.3110 - acc: 0.8561 - val_loss: 0.3395 - val_acc: 0.8445\n",
      "Epoch 262/500\n",
      "20208/20208 [==============================] - 0s 16us/step - loss: 0.3108 - acc: 0.8576 - val_loss: 0.3427 - val_acc: 0.8433\n",
      "Epoch 263/500\n",
      "20208/20208 [==============================] - 0s 15us/step - loss: 0.3109 - acc: 0.8568 - val_loss: 0.3397 - val_acc: 0.8465\n",
      "Epoch 264/500\n",
      "20208/20208 [==============================] - 0s 16us/step - loss: 0.3105 - acc: 0.8568 - val_loss: 0.3394 - val_acc: 0.8441\n",
      "Epoch 265/500\n",
      "20208/20208 [==============================] - 0s 17us/step - loss: 0.3105 - acc: 0.8569 - val_loss: 0.3413 - val_acc: 0.8399\n",
      "Epoch 266/500\n",
      "20208/20208 [==============================] - 0s 19us/step - loss: 0.3109 - acc: 0.8568 - val_loss: 0.3398 - val_acc: 0.8443\n",
      "Epoch 267/500\n",
      "20208/20208 [==============================] - 0s 18us/step - loss: 0.3106 - acc: 0.8576 - val_loss: 0.3395 - val_acc: 0.8449\n",
      "Epoch 268/500\n",
      "20208/20208 [==============================] - 0s 19us/step - loss: 0.3104 - acc: 0.8570 - val_loss: 0.3397 - val_acc: 0.8455\n",
      "Epoch 269/500\n",
      "20208/20208 [==============================] - 0s 19us/step - loss: 0.3106 - acc: 0.8575 - val_loss: 0.3398 - val_acc: 0.8449\n",
      "Epoch 270/500\n",
      "20208/20208 [==============================] - 0s 18us/step - loss: 0.3105 - acc: 0.8563 - val_loss: 0.3433 - val_acc: 0.8387\n",
      "Epoch 271/500\n",
      "20208/20208 [==============================] - 0s 17us/step - loss: 0.3102 - acc: 0.8576 - val_loss: 0.3405 - val_acc: 0.8449\n",
      "Epoch 272/500\n",
      "20208/20208 [==============================] - 0s 16us/step - loss: 0.3101 - acc: 0.8570 - val_loss: 0.3391 - val_acc: 0.8469\n",
      "Epoch 273/500\n",
      "20208/20208 [==============================] - 0s 17us/step - loss: 0.3099 - acc: 0.8572 - val_loss: 0.3393 - val_acc: 0.8435\n",
      "Epoch 274/500\n",
      "20208/20208 [==============================] - 0s 16us/step - loss: 0.3103 - acc: 0.8578 - val_loss: 0.3397 - val_acc: 0.8447\n",
      "Epoch 275/500\n",
      "20208/20208 [==============================] - 0s 16us/step - loss: 0.3102 - acc: 0.8576 - val_loss: 0.3405 - val_acc: 0.8453\n",
      "Epoch 276/500\n",
      "20208/20208 [==============================] - 0s 16us/step - loss: 0.3096 - acc: 0.8569 - val_loss: 0.3421 - val_acc: 0.8437\n",
      "Epoch 277/500\n",
      "20208/20208 [==============================] - 0s 16us/step - loss: 0.3098 - acc: 0.8556 - val_loss: 0.3404 - val_acc: 0.8455\n",
      "Epoch 278/500\n",
      "20208/20208 [==============================] - 0s 16us/step - loss: 0.3098 - acc: 0.8577 - val_loss: 0.3406 - val_acc: 0.8455\n",
      "Epoch 279/500\n",
      "20208/20208 [==============================] - 0s 16us/step - loss: 0.3101 - acc: 0.8563 - val_loss: 0.3415 - val_acc: 0.8445\n",
      "Epoch 280/500\n",
      "20208/20208 [==============================] - 0s 16us/step - loss: 0.3098 - acc: 0.8580 - val_loss: 0.3397 - val_acc: 0.8437\n",
      "Epoch 281/500\n",
      "20208/20208 [==============================] - 0s 16us/step - loss: 0.3100 - acc: 0.8582 - val_loss: 0.3398 - val_acc: 0.8455\n",
      "Epoch 282/500\n",
      "20208/20208 [==============================] - 0s 18us/step - loss: 0.3097 - acc: 0.8570 - val_loss: 0.3390 - val_acc: 0.8473\n",
      "Epoch 283/500\n",
      "20208/20208 [==============================] - 0s 16us/step - loss: 0.3098 - acc: 0.8579 - val_loss: 0.3391 - val_acc: 0.8469\n",
      "Epoch 284/500\n",
      "20208/20208 [==============================] - 0s 18us/step - loss: 0.3095 - acc: 0.8580 - val_loss: 0.3395 - val_acc: 0.8445\n",
      "Epoch 285/500\n",
      "20208/20208 [==============================] - 0s 16us/step - loss: 0.3099 - acc: 0.8572 - val_loss: 0.3402 - val_acc: 0.8451\n",
      "Epoch 286/500\n",
      "20208/20208 [==============================] - 0s 16us/step - loss: 0.3094 - acc: 0.8581 - val_loss: 0.3389 - val_acc: 0.8467\n",
      "Epoch 287/500\n",
      "20208/20208 [==============================] - 0s 21us/step - loss: 0.3095 - acc: 0.8558 - val_loss: 0.3418 - val_acc: 0.8465\n",
      "Epoch 288/500\n",
      "20208/20208 [==============================] - 0s 19us/step - loss: 0.3093 - acc: 0.8580 - val_loss: 0.3410 - val_acc: 0.8449\n",
      "Epoch 289/500\n",
      "20208/20208 [==============================] - 0s 20us/step - loss: 0.3094 - acc: 0.8580 - val_loss: 0.3422 - val_acc: 0.8445\n",
      "Epoch 290/500\n",
      "20208/20208 [==============================] - 0s 18us/step - loss: 0.3096 - acc: 0.8573 - val_loss: 0.3391 - val_acc: 0.8455\n",
      "Epoch 291/500\n",
      "20208/20208 [==============================] - 0s 18us/step - loss: 0.3094 - acc: 0.8567 - val_loss: 0.3405 - val_acc: 0.8449\n",
      "Epoch 292/500\n"
     ]
    },
    {
     "name": "stdout",
     "output_type": "stream",
     "text": [
      "20208/20208 [==============================] - 0s 22us/step - loss: 0.3096 - acc: 0.8582 - val_loss: 0.3382 - val_acc: 0.8461\n",
      "Epoch 293/500\n",
      "20208/20208 [==============================] - 0s 23us/step - loss: 0.3093 - acc: 0.8581 - val_loss: 0.3394 - val_acc: 0.8461\n",
      "Epoch 294/500\n",
      "20208/20208 [==============================] - 0s 22us/step - loss: 0.3093 - acc: 0.8573 - val_loss: 0.3397 - val_acc: 0.8451\n",
      "Epoch 295/500\n",
      "20208/20208 [==============================] - 0s 18us/step - loss: 0.3090 - acc: 0.8579 - val_loss: 0.3388 - val_acc: 0.8491\n",
      "Epoch 296/500\n",
      "20208/20208 [==============================] - 0s 16us/step - loss: 0.3090 - acc: 0.8579 - val_loss: 0.3387 - val_acc: 0.8473\n",
      "Epoch 297/500\n",
      "20208/20208 [==============================] - 0s 19us/step - loss: 0.3088 - acc: 0.8584 - val_loss: 0.3390 - val_acc: 0.8485\n",
      "Epoch 298/500\n",
      "20208/20208 [==============================] - 0s 17us/step - loss: 0.3088 - acc: 0.8578 - val_loss: 0.3393 - val_acc: 0.8453\n",
      "Epoch 299/500\n",
      "20208/20208 [==============================] - 0s 16us/step - loss: 0.3088 - acc: 0.8578 - val_loss: 0.3393 - val_acc: 0.8455\n",
      "Epoch 300/500\n",
      "20208/20208 [==============================] - 0s 16us/step - loss: 0.3088 - acc: 0.8585 - val_loss: 0.3386 - val_acc: 0.8461\n",
      "Epoch 301/500\n",
      "20208/20208 [==============================] - 0s 16us/step - loss: 0.3089 - acc: 0.8581 - val_loss: 0.3390 - val_acc: 0.8443\n",
      "Epoch 302/500\n",
      "20208/20208 [==============================] - 0s 16us/step - loss: 0.3086 - acc: 0.8588 - val_loss: 0.3392 - val_acc: 0.8473\n",
      "Epoch 303/500\n",
      "20208/20208 [==============================] - 0s 18us/step - loss: 0.3087 - acc: 0.8578 - val_loss: 0.3398 - val_acc: 0.8441\n",
      "Epoch 304/500\n",
      "20208/20208 [==============================] - 0s 16us/step - loss: 0.3083 - acc: 0.8585 - val_loss: 0.3397 - val_acc: 0.8471\n",
      "Epoch 305/500\n",
      "20208/20208 [==============================] - 0s 17us/step - loss: 0.3084 - acc: 0.8588 - val_loss: 0.3395 - val_acc: 0.8453\n",
      "Epoch 306/500\n",
      "20208/20208 [==============================] - 0s 16us/step - loss: 0.3087 - acc: 0.8577 - val_loss: 0.3396 - val_acc: 0.8457\n",
      "Epoch 307/500\n",
      "20208/20208 [==============================] - 0s 17us/step - loss: 0.3084 - acc: 0.8584 - val_loss: 0.3385 - val_acc: 0.8463\n",
      "Epoch 308/500\n",
      "20208/20208 [==============================] - 0s 23us/step - loss: 0.3084 - acc: 0.8582 - val_loss: 0.3384 - val_acc: 0.8459\n",
      "Epoch 309/500\n",
      "20208/20208 [==============================] - 1s 28us/step - loss: 0.3083 - acc: 0.8571 - val_loss: 0.3394 - val_acc: 0.8463\n",
      "Epoch 310/500\n",
      "20208/20208 [==============================] - 0s 20us/step - loss: 0.3080 - acc: 0.8580 - val_loss: 0.3448 - val_acc: 0.8373\n",
      "Epoch 311/500\n",
      "20208/20208 [==============================] - 0s 19us/step - loss: 0.3082 - acc: 0.8585 - val_loss: 0.3388 - val_acc: 0.8477\n",
      "Epoch 312/500\n",
      "20208/20208 [==============================] - 0s 18us/step - loss: 0.3079 - acc: 0.8577 - val_loss: 0.3460 - val_acc: 0.8377\n",
      "Epoch 313/500\n",
      "20208/20208 [==============================] - 0s 24us/step - loss: 0.3081 - acc: 0.8592 - val_loss: 0.3395 - val_acc: 0.8473\n",
      "Epoch 314/500\n",
      "20208/20208 [==============================] - 0s 19us/step - loss: 0.3080 - acc: 0.8576 - val_loss: 0.3396 - val_acc: 0.8455\n",
      "Epoch 315/500\n",
      "20208/20208 [==============================] - 0s 19us/step - loss: 0.3080 - acc: 0.8581 - val_loss: 0.3387 - val_acc: 0.8473\n",
      "Epoch 316/500\n",
      "20208/20208 [==============================] - 0s 25us/step - loss: 0.3080 - acc: 0.8583 - val_loss: 0.3405 - val_acc: 0.8435\n",
      "Epoch 317/500\n",
      "20208/20208 [==============================] - 0s 20us/step - loss: 0.3077 - acc: 0.8587 - val_loss: 0.3415 - val_acc: 0.8433\n",
      "Epoch 318/500\n",
      "20208/20208 [==============================] - 0s 20us/step - loss: 0.3080 - acc: 0.8581 - val_loss: 0.3391 - val_acc: 0.8461\n",
      "Epoch 319/500\n",
      "20208/20208 [==============================] - 0s 18us/step - loss: 0.3080 - acc: 0.8594 - val_loss: 0.3391 - val_acc: 0.8463\n",
      "Epoch 320/500\n",
      "20208/20208 [==============================] - 0s 16us/step - loss: 0.3076 - acc: 0.8576 - val_loss: 0.3391 - val_acc: 0.8475\n",
      "Epoch 321/500\n",
      "20208/20208 [==============================] - 0s 21us/step - loss: 0.3074 - acc: 0.8576 - val_loss: 0.3401 - val_acc: 0.8453\n",
      "Epoch 322/500\n",
      "20208/20208 [==============================] - 0s 18us/step - loss: 0.3076 - acc: 0.8589 - val_loss: 0.3393 - val_acc: 0.8479\n",
      "Epoch 323/500\n",
      "20208/20208 [==============================] - 0s 21us/step - loss: 0.3076 - acc: 0.8583 - val_loss: 0.3391 - val_acc: 0.8471\n",
      "Epoch 324/500\n",
      "20208/20208 [==============================] - 0s 21us/step - loss: 0.3073 - acc: 0.8578 - val_loss: 0.3384 - val_acc: 0.8467\n",
      "Epoch 325/500\n",
      "20208/20208 [==============================] - 0s 18us/step - loss: 0.3075 - acc: 0.8582 - val_loss: 0.3389 - val_acc: 0.8463\n",
      "Epoch 326/500\n",
      "20208/20208 [==============================] - 0s 17us/step - loss: 0.3071 - acc: 0.8593 - val_loss: 0.3442 - val_acc: 0.8391\n",
      "Epoch 327/500\n",
      "20208/20208 [==============================] - 0s 17us/step - loss: 0.3075 - acc: 0.8579 - val_loss: 0.3397 - val_acc: 0.8461\n",
      "Epoch 328/500\n",
      "20208/20208 [==============================] - 0s 18us/step - loss: 0.3072 - acc: 0.8578 - val_loss: 0.3389 - val_acc: 0.8455\n",
      "Epoch 329/500\n",
      "20208/20208 [==============================] - 0s 25us/step - loss: 0.3071 - acc: 0.8589 - val_loss: 0.3411 - val_acc: 0.8447\n",
      "Epoch 330/500\n",
      "20208/20208 [==============================] - 0s 22us/step - loss: 0.3070 - acc: 0.8591 - val_loss: 0.3390 - val_acc: 0.8469\n",
      "Epoch 331/500\n",
      "20208/20208 [==============================] - 0s 18us/step - loss: 0.3069 - acc: 0.8585 - val_loss: 0.3390 - val_acc: 0.8491\n",
      "Epoch 332/500\n",
      "20208/20208 [==============================] - 0s 18us/step - loss: 0.3070 - acc: 0.8585 - val_loss: 0.3389 - val_acc: 0.8463\n",
      "Epoch 333/500\n",
      "20208/20208 [==============================] - 0s 16us/step - loss: 0.3072 - acc: 0.8593 - val_loss: 0.3407 - val_acc: 0.8451\n",
      "Epoch 334/500\n",
      "20208/20208 [==============================] - 0s 19us/step - loss: 0.3064 - acc: 0.8587 - val_loss: 0.3403 - val_acc: 0.8453\n",
      "Epoch 335/500\n",
      "20208/20208 [==============================] - 0s 17us/step - loss: 0.3069 - acc: 0.8592 - val_loss: 0.3382 - val_acc: 0.8479\n",
      "Epoch 336/500\n",
      "20208/20208 [==============================] - 0s 19us/step - loss: 0.3067 - acc: 0.8582 - val_loss: 0.3386 - val_acc: 0.8501\n",
      "Epoch 337/500\n",
      "20208/20208 [==============================] - 0s 17us/step - loss: 0.3066 - acc: 0.8594 - val_loss: 0.3398 - val_acc: 0.8453\n",
      "Epoch 338/500\n",
      "20208/20208 [==============================] - 0s 16us/step - loss: 0.3067 - acc: 0.8595 - val_loss: 0.3388 - val_acc: 0.8489\n",
      "Epoch 339/500\n",
      "20208/20208 [==============================] - 0s 17us/step - loss: 0.3066 - acc: 0.8586 - val_loss: 0.3393 - val_acc: 0.8473\n",
      "Epoch 340/500\n",
      "20208/20208 [==============================] - 0s 17us/step - loss: 0.3066 - acc: 0.8593 - val_loss: 0.3389 - val_acc: 0.8475\n",
      "Epoch 341/500\n",
      "20208/20208 [==============================] - 0s 16us/step - loss: 0.3062 - acc: 0.8593 - val_loss: 0.3413 - val_acc: 0.8453\n",
      "Epoch 342/500\n",
      "20208/20208 [==============================] - 0s 16us/step - loss: 0.3067 - acc: 0.8584 - val_loss: 0.3390 - val_acc: 0.8491\n",
      "Epoch 343/500\n",
      "20208/20208 [==============================] - 0s 22us/step - loss: 0.3066 - acc: 0.8586 - val_loss: 0.3405 - val_acc: 0.8489\n",
      "Epoch 344/500\n",
      "20208/20208 [==============================] - 0s 21us/step - loss: 0.3064 - acc: 0.8590 - val_loss: 0.3400 - val_acc: 0.8473\n",
      "Epoch 345/500\n",
      "20208/20208 [==============================] - 0s 15us/step - loss: 0.3062 - acc: 0.8585 - val_loss: 0.3386 - val_acc: 0.8477\n",
      "Epoch 346/500\n",
      "20208/20208 [==============================] - 0s 16us/step - loss: 0.3066 - acc: 0.8586 - val_loss: 0.3383 - val_acc: 0.8485\n",
      "Epoch 347/500\n",
      "20208/20208 [==============================] - 0s 17us/step - loss: 0.3061 - acc: 0.8591 - val_loss: 0.3392 - val_acc: 0.8471\n",
      "Epoch 348/500\n",
      "20208/20208 [==============================] - 0s 19us/step - loss: 0.3062 - acc: 0.8593 - val_loss: 0.3393 - val_acc: 0.8475\n",
      "Epoch 349/500\n",
      "20208/20208 [==============================] - 0s 16us/step - loss: 0.3063 - acc: 0.8580 - val_loss: 0.3387 - val_acc: 0.8477\n",
      "Epoch 350/500\n"
     ]
    },
    {
     "name": "stdout",
     "output_type": "stream",
     "text": [
      "20208/20208 [==============================] - 0s 16us/step - loss: 0.3062 - acc: 0.8581 - val_loss: 0.3396 - val_acc: 0.8479\n",
      "Epoch 351/500\n",
      "20208/20208 [==============================] - 0s 19us/step - loss: 0.3059 - acc: 0.8596 - val_loss: 0.3402 - val_acc: 0.8455\n",
      "Epoch 352/500\n",
      "20208/20208 [==============================] - 0s 17us/step - loss: 0.3059 - acc: 0.8603 - val_loss: 0.3442 - val_acc: 0.8403\n",
      "Epoch 353/500\n",
      "20208/20208 [==============================] - 0s 16us/step - loss: 0.3061 - acc: 0.8586 - val_loss: 0.3398 - val_acc: 0.8477\n",
      "Epoch 354/500\n",
      "20208/20208 [==============================] - 0s 16us/step - loss: 0.3056 - acc: 0.8608 - val_loss: 0.3410 - val_acc: 0.8447\n",
      "Epoch 355/500\n",
      "20208/20208 [==============================] - 0s 16us/step - loss: 0.3057 - acc: 0.8586 - val_loss: 0.3421 - val_acc: 0.8433\n",
      "Epoch 356/500\n",
      "20208/20208 [==============================] - 0s 16us/step - loss: 0.3060 - acc: 0.8600 - val_loss: 0.3397 - val_acc: 0.8465\n",
      "Epoch 357/500\n",
      "20208/20208 [==============================] - 0s 16us/step - loss: 0.3055 - acc: 0.8594 - val_loss: 0.3409 - val_acc: 0.8453\n",
      "Epoch 358/500\n",
      "20208/20208 [==============================] - 0s 16us/step - loss: 0.3057 - acc: 0.8583 - val_loss: 0.3393 - val_acc: 0.8445\n",
      "Epoch 359/500\n",
      "20208/20208 [==============================] - 0s 16us/step - loss: 0.3056 - acc: 0.8592 - val_loss: 0.3393 - val_acc: 0.8457\n",
      "Epoch 360/500\n",
      "20208/20208 [==============================] - 0s 19us/step - loss: 0.3053 - acc: 0.8589 - val_loss: 0.3406 - val_acc: 0.8447\n",
      "Epoch 361/500\n",
      "20208/20208 [==============================] - 0s 21us/step - loss: 0.3056 - acc: 0.8596 - val_loss: 0.3402 - val_acc: 0.8469\n",
      "Epoch 362/500\n",
      "20208/20208 [==============================] - 0s 19us/step - loss: 0.3049 - acc: 0.8596 - val_loss: 0.3398 - val_acc: 0.8467\n",
      "Epoch 363/500\n",
      "20208/20208 [==============================] - 0s 16us/step - loss: 0.3052 - acc: 0.8587 - val_loss: 0.3397 - val_acc: 0.8481\n",
      "Epoch 364/500\n",
      "20208/20208 [==============================] - 0s 16us/step - loss: 0.3051 - acc: 0.8600 - val_loss: 0.3393 - val_acc: 0.8487\n",
      "Epoch 365/500\n",
      "20208/20208 [==============================] - 0s 17us/step - loss: 0.3051 - acc: 0.8594 - val_loss: 0.3390 - val_acc: 0.8463\n",
      "Epoch 366/500\n",
      "20208/20208 [==============================] - 0s 16us/step - loss: 0.3054 - acc: 0.8594 - val_loss: 0.3405 - val_acc: 0.8451\n",
      "Epoch 367/500\n",
      "20208/20208 [==============================] - 0s 17us/step - loss: 0.3053 - acc: 0.8600 - val_loss: 0.3392 - val_acc: 0.8469\n",
      "Epoch 368/500\n",
      "20208/20208 [==============================] - 0s 17us/step - loss: 0.3050 - acc: 0.8599 - val_loss: 0.3391 - val_acc: 0.8485\n",
      "Epoch 369/500\n",
      "20208/20208 [==============================] - 0s 17us/step - loss: 0.3054 - acc: 0.8590 - val_loss: 0.3383 - val_acc: 0.8489\n",
      "Epoch 370/500\n",
      "20208/20208 [==============================] - 0s 16us/step - loss: 0.3052 - acc: 0.8591 - val_loss: 0.3402 - val_acc: 0.8469\n",
      "Epoch 371/500\n",
      "20208/20208 [==============================] - 0s 16us/step - loss: 0.3051 - acc: 0.8597 - val_loss: 0.3388 - val_acc: 0.8471\n",
      "Epoch 372/500\n",
      "20208/20208 [==============================] - 0s 18us/step - loss: 0.3050 - acc: 0.8592 - val_loss: 0.3391 - val_acc: 0.8447\n",
      "Epoch 373/500\n",
      "20208/20208 [==============================] - 0s 17us/step - loss: 0.3051 - acc: 0.8602 - val_loss: 0.3391 - val_acc: 0.8481\n",
      "Epoch 374/500\n",
      "20208/20208 [==============================] - 0s 17us/step - loss: 0.3046 - acc: 0.8600 - val_loss: 0.3395 - val_acc: 0.8491\n",
      "Epoch 375/500\n",
      "20208/20208 [==============================] - 0s 16us/step - loss: 0.3046 - acc: 0.8609 - val_loss: 0.3451 - val_acc: 0.8395\n",
      "Epoch 376/500\n",
      "20208/20208 [==============================] - 0s 16us/step - loss: 0.3048 - acc: 0.8606 - val_loss: 0.3394 - val_acc: 0.8479\n",
      "Epoch 377/500\n",
      "20208/20208 [==============================] - 0s 19us/step - loss: 0.3048 - acc: 0.8583 - val_loss: 0.3393 - val_acc: 0.8489\n",
      "Epoch 378/500\n",
      "20208/20208 [==============================] - 0s 17us/step - loss: 0.3047 - acc: 0.8592 - val_loss: 0.3443 - val_acc: 0.8439\n",
      "Epoch 379/500\n",
      "20208/20208 [==============================] - 0s 16us/step - loss: 0.3048 - acc: 0.8602 - val_loss: 0.3402 - val_acc: 0.8451\n",
      "Epoch 380/500\n",
      "20208/20208 [==============================] - 0s 17us/step - loss: 0.3048 - acc: 0.8589 - val_loss: 0.3397 - val_acc: 0.8459\n",
      "Epoch 381/500\n",
      "20208/20208 [==============================] - 0s 20us/step - loss: 0.3045 - acc: 0.8589 - val_loss: 0.3433 - val_acc: 0.8415\n",
      "Epoch 382/500\n",
      "20208/20208 [==============================] - 0s 21us/step - loss: 0.3043 - acc: 0.8586 - val_loss: 0.3393 - val_acc: 0.8489\n",
      "Epoch 383/500\n",
      "20208/20208 [==============================] - 1s 25us/step - loss: 0.3044 - acc: 0.8589 - val_loss: 0.3413 - val_acc: 0.8463\n",
      "Epoch 384/500\n",
      "20208/20208 [==============================] - 0s 23us/step - loss: 0.3041 - acc: 0.8604 - val_loss: 0.3401 - val_acc: 0.8469\n",
      "Epoch 385/500\n",
      "20208/20208 [==============================] - 0s 23us/step - loss: 0.3044 - acc: 0.8596 - val_loss: 0.3412 - val_acc: 0.8429\n",
      "Epoch 386/500\n",
      "20208/20208 [==============================] - 0s 20us/step - loss: 0.3040 - acc: 0.8601 - val_loss: 0.3410 - val_acc: 0.8455\n",
      "Epoch 387/500\n",
      "20208/20208 [==============================] - 0s 20us/step - loss: 0.3042 - acc: 0.8594 - val_loss: 0.3393 - val_acc: 0.8487\n",
      "Epoch 388/500\n",
      "20208/20208 [==============================] - 1s 25us/step - loss: 0.3041 - acc: 0.8615 - val_loss: 0.3396 - val_acc: 0.8479\n",
      "Epoch 389/500\n",
      "20208/20208 [==============================] - 0s 24us/step - loss: 0.3041 - acc: 0.8612 - val_loss: 0.3402 - val_acc: 0.8437\n",
      "Epoch 390/500\n",
      "20208/20208 [==============================] - 0s 21us/step - loss: 0.3041 - acc: 0.8608 - val_loss: 0.3393 - val_acc: 0.8465\n",
      "Epoch 391/500\n",
      "20208/20208 [==============================] - 0s 21us/step - loss: 0.3040 - acc: 0.8604 - val_loss: 0.3424 - val_acc: 0.8443\n",
      "Epoch 392/500\n",
      "20208/20208 [==============================] - 0s 22us/step - loss: 0.3043 - acc: 0.8585 - val_loss: 0.3394 - val_acc: 0.8437\n",
      "Epoch 393/500\n",
      "20208/20208 [==============================] - 0s 22us/step - loss: 0.3043 - acc: 0.8592 - val_loss: 0.3417 - val_acc: 0.8443\n",
      "Epoch 394/500\n",
      "20208/20208 [==============================] - 0s 19us/step - loss: 0.3042 - acc: 0.8601 - val_loss: 0.3404 - val_acc: 0.8447\n",
      "Epoch 395/500\n",
      "20208/20208 [==============================] - 0s 19us/step - loss: 0.3040 - acc: 0.8607 - val_loss: 0.3406 - val_acc: 0.8461\n",
      "Epoch 396/500\n",
      "20208/20208 [==============================] - 0s 19us/step - loss: 0.3038 - acc: 0.8604 - val_loss: 0.3422 - val_acc: 0.8447\n",
      "Epoch 397/500\n",
      "20208/20208 [==============================] - 0s 22us/step - loss: 0.3037 - acc: 0.8604 - val_loss: 0.3406 - val_acc: 0.8457\n",
      "Epoch 398/500\n",
      "20208/20208 [==============================] - 0s 20us/step - loss: 0.3035 - acc: 0.8596 - val_loss: 0.3394 - val_acc: 0.8479\n",
      "Epoch 399/500\n",
      "20208/20208 [==============================] - 0s 20us/step - loss: 0.3036 - acc: 0.8606 - val_loss: 0.3400 - val_acc: 0.8483\n",
      "Epoch 400/500\n",
      "20208/20208 [==============================] - 0s 21us/step - loss: 0.3036 - acc: 0.8602 - val_loss: 0.3402 - val_acc: 0.8453\n",
      "Epoch 401/500\n",
      "20208/20208 [==============================] - 0s 24us/step - loss: 0.3035 - acc: 0.8611 - val_loss: 0.3395 - val_acc: 0.8487\n",
      "Epoch 402/500\n",
      "20208/20208 [==============================] - 1s 27us/step - loss: 0.3035 - acc: 0.8598 - val_loss: 0.3454 - val_acc: 0.8429\n",
      "Epoch 403/500\n",
      "20208/20208 [==============================] - 0s 22us/step - loss: 0.3035 - acc: 0.8602 - val_loss: 0.3407 - val_acc: 0.8439\n",
      "Epoch 404/500\n",
      "20208/20208 [==============================] - 0s 20us/step - loss: 0.3034 - acc: 0.8601 - val_loss: 0.3410 - val_acc: 0.8447\n",
      "Epoch 405/500\n",
      "20208/20208 [==============================] - ETA: 0s - loss: 0.3039 - acc: 0.859 - 0s 22us/step - loss: 0.3034 - acc: 0.8594 - val_loss: 0.3440 - val_acc: 0.8421\n",
      "Epoch 406/500\n",
      "20208/20208 [==============================] - 0s 22us/step - loss: 0.3034 - acc: 0.8595 - val_loss: 0.3400 - val_acc: 0.8467\n",
      "Epoch 407/500\n",
      "20208/20208 [==============================] - 0s 21us/step - loss: 0.3035 - acc: 0.8603 - val_loss: 0.3407 - val_acc: 0.8467\n",
      "Epoch 408/500\n"
     ]
    },
    {
     "name": "stdout",
     "output_type": "stream",
     "text": [
      "20208/20208 [==============================] - 0s 20us/step - loss: 0.3036 - acc: 0.8602 - val_loss: 0.3396 - val_acc: 0.8467\n",
      "Epoch 409/500\n",
      "20208/20208 [==============================] - 0s 24us/step - loss: 0.3033 - acc: 0.8596 - val_loss: 0.3397 - val_acc: 0.8451\n",
      "Epoch 410/500\n",
      "20208/20208 [==============================] - 0s 24us/step - loss: 0.3033 - acc: 0.8592 - val_loss: 0.3404 - val_acc: 0.8455\n",
      "Epoch 411/500\n",
      "20208/20208 [==============================] - 0s 22us/step - loss: 0.3035 - acc: 0.8600 - val_loss: 0.3402 - val_acc: 0.8461\n",
      "Epoch 412/500\n",
      "20208/20208 [==============================] - 0s 18us/step - loss: 0.3032 - acc: 0.8601 - val_loss: 0.3402 - val_acc: 0.8469\n",
      "Epoch 413/500\n",
      "20208/20208 [==============================] - 0s 18us/step - loss: 0.3032 - acc: 0.8611 - val_loss: 0.3428 - val_acc: 0.8453\n",
      "Epoch 414/500\n",
      "20208/20208 [==============================] - 0s 19us/step - loss: 0.3030 - acc: 0.8613 - val_loss: 0.3411 - val_acc: 0.8453\n",
      "Epoch 415/500\n",
      "20208/20208 [==============================] - 0s 19us/step - loss: 0.3030 - acc: 0.8608 - val_loss: 0.3409 - val_acc: 0.8459\n",
      "Epoch 416/500\n",
      "20208/20208 [==============================] - 0s 24us/step - loss: 0.3029 - acc: 0.8606 - val_loss: 0.3397 - val_acc: 0.8459\n",
      "Epoch 417/500\n",
      "20208/20208 [==============================] - 0s 23us/step - loss: 0.3031 - acc: 0.8594 - val_loss: 0.3405 - val_acc: 0.8463\n",
      "Epoch 418/500\n",
      "20208/20208 [==============================] - 0s 22us/step - loss: 0.3028 - acc: 0.8595 - val_loss: 0.3416 - val_acc: 0.8463\n",
      "Epoch 419/500\n",
      "20208/20208 [==============================] - 0s 22us/step - loss: 0.3031 - acc: 0.8599 - val_loss: 0.3398 - val_acc: 0.8457\n",
      "Epoch 420/500\n",
      "20208/20208 [==============================] - 0s 22us/step - loss: 0.3027 - acc: 0.8612 - val_loss: 0.3399 - val_acc: 0.8453\n",
      "Epoch 421/500\n",
      "20208/20208 [==============================] - 0s 22us/step - loss: 0.3027 - acc: 0.8618 - val_loss: 0.3450 - val_acc: 0.8409\n",
      "Epoch 422/500\n",
      "20208/20208 [==============================] - 0s 22us/step - loss: 0.3028 - acc: 0.8608 - val_loss: 0.3407 - val_acc: 0.8453\n",
      "Epoch 423/500\n",
      "20208/20208 [==============================] - 0s 23us/step - loss: 0.3028 - acc: 0.8605 - val_loss: 0.3402 - val_acc: 0.8467\n",
      "Epoch 424/500\n",
      "20208/20208 [==============================] - 0s 22us/step - loss: 0.3029 - acc: 0.8615 - val_loss: 0.3406 - val_acc: 0.8471\n",
      "Epoch 425/500\n",
      "20208/20208 [==============================] - 0s 20us/step - loss: 0.3025 - acc: 0.8605 - val_loss: 0.3407 - val_acc: 0.8473\n",
      "Epoch 426/500\n",
      "20208/20208 [==============================] - 0s 19us/step - loss: 0.3027 - acc: 0.8601 - val_loss: 0.3472 - val_acc: 0.8393\n",
      "Epoch 427/500\n",
      "20208/20208 [==============================] - 0s 22us/step - loss: 0.3024 - acc: 0.8622 - val_loss: 0.3401 - val_acc: 0.8439\n",
      "Epoch 428/500\n",
      "20208/20208 [==============================] - 0s 24us/step - loss: 0.3026 - acc: 0.8616 - val_loss: 0.3400 - val_acc: 0.8459\n",
      "Epoch 429/500\n",
      "20208/20208 [==============================] - 0s 21us/step - loss: 0.3024 - acc: 0.8605 - val_loss: 0.3409 - val_acc: 0.8463\n",
      "Epoch 430/500\n",
      "20208/20208 [==============================] - 0s 19us/step - loss: 0.3024 - acc: 0.8610 - val_loss: 0.3406 - val_acc: 0.8455\n",
      "Epoch 431/500\n",
      "20208/20208 [==============================] - 0s 19us/step - loss: 0.3026 - acc: 0.8609 - val_loss: 0.3402 - val_acc: 0.8439\n",
      "Epoch 432/500\n",
      "20208/20208 [==============================] - 0s 23us/step - loss: 0.3019 - acc: 0.8606 - val_loss: 0.3411 - val_acc: 0.8447\n",
      "Epoch 433/500\n",
      "20208/20208 [==============================] - 0s 21us/step - loss: 0.3024 - acc: 0.8611 - val_loss: 0.3425 - val_acc: 0.8441\n",
      "Epoch 434/500\n",
      "20208/20208 [==============================] - 0s 19us/step - loss: 0.3023 - acc: 0.8606 - val_loss: 0.3410 - val_acc: 0.8461\n",
      "Epoch 435/500\n",
      "20208/20208 [==============================] - 0s 19us/step - loss: 0.3022 - acc: 0.8618 - val_loss: 0.3404 - val_acc: 0.8507\n",
      "Epoch 436/500\n",
      "20208/20208 [==============================] - 0s 22us/step - loss: 0.3018 - acc: 0.8600 - val_loss: 0.3414 - val_acc: 0.8441\n",
      "Epoch 437/500\n",
      "20208/20208 [==============================] - 0s 21us/step - loss: 0.3020 - acc: 0.8619 - val_loss: 0.3409 - val_acc: 0.8473\n",
      "Epoch 438/500\n",
      "20208/20208 [==============================] - 0s 19us/step - loss: 0.3021 - acc: 0.8603 - val_loss: 0.3408 - val_acc: 0.8459\n",
      "Epoch 439/500\n",
      "20208/20208 [==============================] - 0s 19us/step - loss: 0.3020 - acc: 0.8615 - val_loss: 0.3405 - val_acc: 0.8467\n",
      "Epoch 440/500\n",
      "20208/20208 [==============================] - 0s 20us/step - loss: 0.3021 - acc: 0.8598 - val_loss: 0.3431 - val_acc: 0.8453\n",
      "Epoch 441/500\n",
      "20208/20208 [==============================] - 0s 20us/step - loss: 0.3021 - acc: 0.8601 - val_loss: 0.3424 - val_acc: 0.8441\n",
      "Epoch 442/500\n",
      "20208/20208 [==============================] - 0s 20us/step - loss: 0.3020 - acc: 0.8618 - val_loss: 0.3419 - val_acc: 0.8459\n",
      "Epoch 443/500\n",
      "20208/20208 [==============================] - 0s 20us/step - loss: 0.3021 - acc: 0.8612 - val_loss: 0.3407 - val_acc: 0.8445\n",
      "Epoch 444/500\n",
      "20208/20208 [==============================] - 0s 21us/step - loss: 0.3018 - acc: 0.8606 - val_loss: 0.3418 - val_acc: 0.8461\n",
      "Epoch 445/500\n",
      "20208/20208 [==============================] - 0s 21us/step - loss: 0.3017 - acc: 0.8609 - val_loss: 0.3419 - val_acc: 0.8445\n",
      "Epoch 446/500\n",
      "20208/20208 [==============================] - 0s 21us/step - loss: 0.3016 - acc: 0.8612 - val_loss: 0.3497 - val_acc: 0.8395\n",
      "Epoch 447/500\n",
      "20208/20208 [==============================] - 0s 22us/step - loss: 0.3018 - acc: 0.8608 - val_loss: 0.3405 - val_acc: 0.8453\n",
      "Epoch 448/500\n",
      "20208/20208 [==============================] - 0s 19us/step - loss: 0.3016 - acc: 0.8615 - val_loss: 0.3421 - val_acc: 0.8453\n",
      "Epoch 449/500\n",
      "20208/20208 [==============================] - 0s 21us/step - loss: 0.3011 - acc: 0.8617 - val_loss: 0.3460 - val_acc: 0.8413\n",
      "Epoch 450/500\n",
      "20208/20208 [==============================] - 0s 22us/step - loss: 0.3016 - acc: 0.8611 - val_loss: 0.3412 - val_acc: 0.8437\n",
      "Epoch 451/500\n",
      "20208/20208 [==============================] - 0s 21us/step - loss: 0.3017 - acc: 0.8614 - val_loss: 0.3404 - val_acc: 0.8469\n",
      "Epoch 452/500\n",
      "20208/20208 [==============================] - 0s 21us/step - loss: 0.3012 - acc: 0.8613 - val_loss: 0.3416 - val_acc: 0.8485\n",
      "Epoch 453/500\n",
      "20208/20208 [==============================] - 0s 21us/step - loss: 0.3014 - acc: 0.8608 - val_loss: 0.3407 - val_acc: 0.8467\n",
      "Epoch 454/500\n",
      "20208/20208 [==============================] - 0s 21us/step - loss: 0.3012 - acc: 0.8618 - val_loss: 0.3418 - val_acc: 0.8459\n",
      "Epoch 455/500\n",
      "20208/20208 [==============================] - 0s 21us/step - loss: 0.3014 - acc: 0.8612 - val_loss: 0.3427 - val_acc: 0.8451\n",
      "Epoch 456/500\n",
      "20208/20208 [==============================] - 0s 21us/step - loss: 0.3014 - acc: 0.8610 - val_loss: 0.3413 - val_acc: 0.8491\n",
      "Epoch 457/500\n",
      "20208/20208 [==============================] - 0s 20us/step - loss: 0.3012 - acc: 0.8616 - val_loss: 0.3440 - val_acc: 0.8453\n",
      "Epoch 458/500\n",
      "20208/20208 [==============================] - 0s 17us/step - loss: 0.3013 - acc: 0.8614 - val_loss: 0.3412 - val_acc: 0.8477\n",
      "Epoch 459/500\n",
      "20208/20208 [==============================] - 0s 21us/step - loss: 0.3015 - acc: 0.8601 - val_loss: 0.3411 - val_acc: 0.8453\n",
      "Epoch 460/500\n",
      "20208/20208 [==============================] - 0s 23us/step - loss: 0.3011 - acc: 0.8620 - val_loss: 0.3469 - val_acc: 0.8419\n",
      "Epoch 461/500\n",
      "20208/20208 [==============================] - 0s 22us/step - loss: 0.3012 - acc: 0.8620 - val_loss: 0.3419 - val_acc: 0.8459\n",
      "Epoch 462/500\n",
      "20208/20208 [==============================] - 0s 21us/step - loss: 0.3012 - acc: 0.8619 - val_loss: 0.3411 - val_acc: 0.8475\n",
      "Epoch 463/500\n",
      "20208/20208 [==============================] - 0s 20us/step - loss: 0.3013 - acc: 0.8620 - val_loss: 0.3410 - val_acc: 0.8485\n",
      "Epoch 464/500\n",
      "20208/20208 [==============================] - 0s 20us/step - loss: 0.3009 - acc: 0.8613 - val_loss: 0.3418 - val_acc: 0.8433\n",
      "Epoch 465/500\n",
      "20208/20208 [==============================] - 0s 21us/step - loss: 0.3009 - acc: 0.8617 - val_loss: 0.3452 - val_acc: 0.8423\n",
      "Epoch 466/500\n"
     ]
    },
    {
     "name": "stdout",
     "output_type": "stream",
     "text": [
      "20208/20208 [==============================] - 0s 21us/step - loss: 0.3010 - acc: 0.8617 - val_loss: 0.3416 - val_acc: 0.8447\n",
      "Epoch 467/500\n",
      "20208/20208 [==============================] - 0s 18us/step - loss: 0.3009 - acc: 0.8609 - val_loss: 0.3426 - val_acc: 0.8451\n",
      "Epoch 468/500\n",
      "20208/20208 [==============================] - 1s 25us/step - loss: 0.3009 - acc: 0.8615 - val_loss: 0.3418 - val_acc: 0.8465\n",
      "Epoch 469/500\n",
      "20208/20208 [==============================] - 0s 25us/step - loss: 0.3011 - acc: 0.8618 - val_loss: 0.3427 - val_acc: 0.8459\n",
      "Epoch 470/500\n",
      "20208/20208 [==============================] - 0s 23us/step - loss: 0.3009 - acc: 0.8618 - val_loss: 0.3421 - val_acc: 0.8465\n",
      "Epoch 471/500\n",
      "20208/20208 [==============================] - 0s 22us/step - loss: 0.3005 - acc: 0.8616 - val_loss: 0.3417 - val_acc: 0.8435\n",
      "Epoch 472/500\n",
      "20208/20208 [==============================] - 0s 22us/step - loss: 0.3008 - acc: 0.8619 - val_loss: 0.3418 - val_acc: 0.8463\n",
      "Epoch 473/500\n",
      "20208/20208 [==============================] - 0s 21us/step - loss: 0.3007 - acc: 0.8617 - val_loss: 0.3410 - val_acc: 0.8451\n",
      "Epoch 474/500\n",
      "20208/20208 [==============================] - 0s 22us/step - loss: 0.3005 - acc: 0.8622 - val_loss: 0.3422 - val_acc: 0.8443\n",
      "Epoch 475/500\n",
      "20208/20208 [==============================] - 0s 22us/step - loss: 0.3008 - acc: 0.8611 - val_loss: 0.3416 - val_acc: 0.8461\n",
      "Epoch 476/500\n",
      "20208/20208 [==============================] - 0s 21us/step - loss: 0.3008 - acc: 0.8622 - val_loss: 0.3417 - val_acc: 0.8457\n",
      "Epoch 477/500\n",
      "20208/20208 [==============================] - 0s 22us/step - loss: 0.3002 - acc: 0.8609 - val_loss: 0.3435 - val_acc: 0.8429\n",
      "Epoch 478/500\n",
      "20208/20208 [==============================] - 0s 20us/step - loss: 0.3005 - acc: 0.8606 - val_loss: 0.3421 - val_acc: 0.8449\n",
      "Epoch 479/500\n",
      "20208/20208 [==============================] - 0s 20us/step - loss: 0.3008 - acc: 0.8619 - val_loss: 0.3470 - val_acc: 0.8405\n",
      "Epoch 480/500\n",
      "20208/20208 [==============================] - 0s 19us/step - loss: 0.3003 - acc: 0.8612 - val_loss: 0.3427 - val_acc: 0.8453\n",
      "Epoch 481/500\n",
      "20208/20208 [==============================] - 0s 22us/step - loss: 0.3006 - acc: 0.8611 - val_loss: 0.3430 - val_acc: 0.8455\n",
      "Epoch 482/500\n",
      "20208/20208 [==============================] - 0s 22us/step - loss: 0.3002 - acc: 0.8612 - val_loss: 0.3420 - val_acc: 0.8483\n",
      "Epoch 483/500\n",
      "20208/20208 [==============================] - 0s 23us/step - loss: 0.3002 - acc: 0.8621 - val_loss: 0.3412 - val_acc: 0.8457\n",
      "Epoch 484/500\n",
      "20208/20208 [==============================] - 0s 21us/step - loss: 0.3003 - acc: 0.8632 - val_loss: 0.3432 - val_acc: 0.8433\n",
      "Epoch 485/500\n",
      "20208/20208 [==============================] - 0s 21us/step - loss: 0.3005 - acc: 0.8616 - val_loss: 0.3431 - val_acc: 0.8447\n",
      "Epoch 486/500\n",
      "20208/20208 [==============================] - 0s 21us/step - loss: 0.3001 - acc: 0.8615 - val_loss: 0.3429 - val_acc: 0.8445\n",
      "Epoch 487/500\n",
      "20208/20208 [==============================] - 0s 21us/step - loss: 0.3002 - acc: 0.8637 - val_loss: 0.3413 - val_acc: 0.8467\n",
      "Epoch 488/500\n",
      "20208/20208 [==============================] - 0s 21us/step - loss: 0.3000 - acc: 0.8627 - val_loss: 0.3419 - val_acc: 0.8451\n",
      "Epoch 489/500\n",
      "20208/20208 [==============================] - 0s 20us/step - loss: 0.3001 - acc: 0.8615 - val_loss: 0.3421 - val_acc: 0.8461\n",
      "Epoch 490/500\n",
      "20208/20208 [==============================] - 0s 22us/step - loss: 0.2997 - acc: 0.8629 - val_loss: 0.3426 - val_acc: 0.8433\n",
      "Epoch 491/500\n",
      "20208/20208 [==============================] - 0s 19us/step - loss: 0.2999 - acc: 0.8617 - val_loss: 0.3420 - val_acc: 0.8471\n",
      "Epoch 492/500\n",
      "20208/20208 [==============================] - 0s 22us/step - loss: 0.2999 - acc: 0.8622 - val_loss: 0.3416 - val_acc: 0.8465\n",
      "Epoch 493/500\n",
      "20208/20208 [==============================] - 0s 21us/step - loss: 0.3002 - acc: 0.8619 - val_loss: 0.3417 - val_acc: 0.8473\n",
      "Epoch 494/500\n",
      "20208/20208 [==============================] - 0s 19us/step - loss: 0.2998 - acc: 0.8622 - val_loss: 0.3417 - val_acc: 0.8483\n",
      "Epoch 495/500\n",
      "20208/20208 [==============================] - 0s 21us/step - loss: 0.3001 - acc: 0.8617 - val_loss: 0.3414 - val_acc: 0.8447\n",
      "Epoch 496/500\n",
      "20208/20208 [==============================] - 0s 21us/step - loss: 0.3000 - acc: 0.8620 - val_loss: 0.3430 - val_acc: 0.8443\n",
      "Epoch 497/500\n",
      "20208/20208 [==============================] - 0s 20us/step - loss: 0.2994 - acc: 0.8619 - val_loss: 0.3436 - val_acc: 0.8461\n",
      "Epoch 498/500\n",
      "20208/20208 [==============================] - 0s 20us/step - loss: 0.2997 - acc: 0.8619 - val_loss: 0.3419 - val_acc: 0.8485\n",
      "Epoch 499/500\n",
      "20208/20208 [==============================] - 0s 21us/step - loss: 0.2997 - acc: 0.8614 - val_loss: 0.3419 - val_acc: 0.8471\n",
      "Epoch 500/500\n",
      "20208/20208 [==============================] - 0s 20us/step - loss: 0.3000 - acc: 0.8617 - val_loss: 0.3423 - val_acc: 0.8495\n"
     ]
    }
   ],
   "source": [
    "history = modelN.fit(x_train,y_train_one_hot,batch_size=batch_size,epochs=epochs,validation_data=(x_val, y_val_one_hot))\n",
    "#y_train_one_hot\n",
    "#x_train"
   ]
  },
  {
   "cell_type": "markdown",
   "metadata": {},
   "source": [
    "### Chech model overfitting"
   ]
  },
  {
   "cell_type": "code",
   "execution_count": 165,
   "metadata": {},
   "outputs": [
    {
     "data": {
      "image/png": "[encoded data removed]",
      "text/plain": [
       "<Figure size 432x288 with 1 Axes>"
      ]
     },
     "metadata": {},
     "output_type": "display_data"
    }
   ],
   "source": [
    "\n",
    "plt.plot(history.history['val_loss'],color=\"blue\")\n",
    "plt.title('Validation data loss rate')\n",
    "plt.xlabel('num_epochs')\n",
    "plt.ylabel('loss_rate')\n",
    "plt.ylim(0.33,0.36)\n",
    "plt.legend(['validation'], loc='upper left')\n",
    "plt.show()"
   ]
  },
  {
   "cell_type": "code",
   "execution_count": 164,
   "metadata": {},
   "outputs": [
    {
     "data": {
      "image/png": "[encoded data removed]",
      "text/plain": [
       "<Figure size 432x288 with 1 Axes>"
      ]
     },
     "metadata": {},
     "output_type": "display_data"
    }
   ],
   "source": [
    "plt.plot(history.history['loss'],color='orange')\n",
    "plt.title('training data set loss rate')\n",
    "plt.ylabel('loss_rate')\n",
    "plt.xlabel('num_epochs')\n",
    "plt.show()"
   ]
  },
  {
   "cell_type": "markdown",
   "metadata": {},
   "source": [
    "### conclution about above model\n",
    "\n",
    "> model training 300 epochs <br>\n",
    "> but **according to validation data** model is starting to **overfit** <br>\n",
    "> optimum epoch for training is 300"
   ]
  },
  {
   "cell_type": "code",
   "execution_count": null,
   "metadata": {},
   "outputs": [],
   "source": []
  },
  {
   "cell_type": "markdown",
   "metadata": {},
   "source": [
    "##### Model Accuraccy"
   ]
  },
  {
   "cell_type": "code",
   "execution_count": 257,
   "metadata": {},
   "outputs": [
    {
     "name": "stdout",
     "output_type": "stream",
     "text": [
      "Accuracy in minimum loss: 0.8212094326678336\n"
     ]
    }
   ],
   "source": [
    "min_loss_index = history.history['val_loss'].index(min(history.history['val_loss']))\n",
    "max_acc = history.history['acc'][min_loss_index]\n",
    "\n",
    "print('Accuracy in minimum loss: '+str(max_acc))"
   ]
  },
  {
   "cell_type": "markdown",
   "metadata": {},
   "source": [
    "#### Model Precision and recall"
   ]
  },
  {
   "cell_type": "code",
   "execution_count": 235,
   "metadata": {},
   "outputs": [],
   "source": [
    "y_predict = modelN.predict(x_test)\n",
    " # conver one hot encording on to noemal array \n",
    "Y_Pred = []\n",
    "for x in y_predict:\n",
    "    if x[0]> 0.5:\n",
    "        Y_Pred.append(0)\n",
    "    else:\n",
    "        Y_Pred.append(1)\n"
   ]
  },
  {
   "cell_type": "code",
   "execution_count": 240,
   "metadata": {},
   "outputs": [
    {
     "name": "stdout",
     "output_type": "stream",
     "text": [
      "             precision    recall  f1-score   support\n",
      "\n",
      "          0      0.881     0.921     0.901      3709\n",
      "          1      0.734     0.636     0.681      1268\n",
      "\n",
      "avg / total      0.843     0.849     0.845      4977\n",
      "\n"
     ]
    }
   ],
   "source": [
    "# cross validation\n",
    "print(metrics.classification_report(y_test,Y_Pred,digits = 3))"
   ]
  },
  {
   "cell_type": "markdown",
   "metadata": {},
   "source": [
    "- precision = TP/(TP+FP) <br>\n",
    "- recall = TP/(P)<br>\n",
    "> where TP = \"** True Postive**\" , FP = \"**False Positive**\", P = \"**total positive**\" \n",
    "\n",
    "- here high total recall and precision values says that model is predict most of the time correctly\n",
    "- but this model is over fit to the training data set"
   ]
  },
  {
   "cell_type": "code",
   "execution_count": null,
   "metadata": {},
   "outputs": [],
   "source": []
  }
 ],
 "metadata": {
  "kernelspec": {
   "display_name": "Python 3",
   "language": "python",
   "name": "python3"
  },
  "language_info": {
   "codemirror_mode": {
    "name": "ipython",
    "version": 3
   },
   "file_extension": ".py",
   "mimetype": "text/x-python",
   "name": "python",
   "nbconvert_exporter": "python",
   "pygments_lexer": "ipython3",
   "version": "3.5.5"
  }
 },
 "nbformat": 4,
 "nbformat_minor": 2
}
