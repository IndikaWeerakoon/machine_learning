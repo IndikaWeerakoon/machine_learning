{
 "cells": [
  {
   "cell_type": "markdown",
   "metadata": {},
   "source": [
    "# Assignment CSC 369 2.0 Machine learning"
   ]
  },
  {
   "cell_type": "code",
   "execution_count": null,
   "metadata": {},
   "outputs": [],
   "source": []
  },
  {
   "cell_type": "markdown",
   "metadata": {},
   "source": [
    "# importing all required libraries\n",
    "\n",
    "import sutable libraries for \n",
    "> **pandas** :* for convert dataset into required format*,<br>\n",
    "> **sklearn** :* for perform K-nearest neighbors algorithm*,<br>\n",
    "> **nampy** : *for special math function*,<br>\n",
    "> **keras** : *for perform reggression and nural networks*"
   ]
  },
  {
   "cell_type": "code",
   "execution_count": 29,
   "metadata": {},
   "outputs": [],
   "source": [
    "import numpy as np\n",
    "import pandas as pd\n",
    "import matplotlib.pyplot as plt\n",
    "import scipy\n",
    "\n",
    "from pylab import rcParams\n",
    "\n",
    "import sklearn\n",
    "from sklearn.neighbors import KNeighborsClassifier\n",
    "from sklearn.cross_validation import train_test_split\n",
    "from sklearn import metrics\n",
    "from sklearn import neighbors\n",
    "from sklearn import preprocessing\n",
    "from sklearn.cross_validation import cross_val_score\n",
    "from sklearn.metrics import accuracy_score"
   ]
  },
  {
   "cell_type": "markdown",
   "metadata": {},
   "source": [
    "#### import keras libraries"
   ]
  },
  {
   "cell_type": "code",
   "execution_count": 67,
   "metadata": {},
   "outputs": [],
   "source": [
    "import keras\n",
    "from keras.models import Sequential\n",
    "from keras.layers import Dense, Activation"
   ]
  },
  {
   "cell_type": "markdown",
   "metadata": {},
   "source": [
    "## Loard the dataset"
   ]
  },
  {
   "cell_type": "code",
   "execution_count": 31,
   "metadata": {},
   "outputs": [],
   "source": [
    "cns = pd.read_csv('Adult_Census.csv')\n"
   ]
  },
  {
   "cell_type": "markdown",
   "metadata": {},
   "source": [
    "### Handle missing data\n",
    "\n",
    "- convert imssing data from given format'?' into NAN\n",
    "- Then drop those missing data to make complete dataset\n",
    "- remake the **DataFrme** to avoiding missing indexes"
   ]
  },
  {
   "cell_type": "code",
   "execution_count": 32,
   "metadata": {},
   "outputs": [],
   "source": [
    "#Function convert imssing data in given format'?' in to NAN and then drop those data\n",
    "\n",
    "def remove_miss_data(df):\n",
    "    df = df.replace('[?]',np.nan,regex=True)\n",
    "    df = df.dropna(how='any')\n",
    "    return df"
   ]
  },
  {
   "cell_type": "code",
   "execution_count": 33,
   "metadata": {},
   "outputs": [],
   "source": [
    "# assign th function\n",
    "cns = remove_miss_data(cns)"
   ]
  },
  {
   "cell_type": "code",
   "execution_count": 34,
   "metadata": {},
   "outputs": [],
   "source": [
    "#Reorganizing data frame with continueus Indexes\n",
    "cns = pd.DataFrame(cns.values,columns= cns.columns.values)"
   ]
  },
  {
   "cell_type": "code",
   "execution_count": 35,
   "metadata": {},
   "outputs": [
    {
     "data": {
      "text/html": [
       "<div>\n",
       "<style scoped>\n",
       "    .dataframe tbody tr th:only-of-type {\n",
       "        vertical-align: middle;\n",
       "    }\n",
       "\n",
       "    .dataframe tbody tr th {\n",
       "        vertical-align: top;\n",
       "    }\n",
       "\n",
       "    .dataframe thead th {\n",
       "        text-align: right;\n",
       "    }\n",
       "</style>\n",
       "<table border=\"1\" class=\"dataframe\">\n",
       "  <thead>\n",
       "    <tr style=\"text-align: right;\">\n",
       "      <th></th>\n",
       "      <th>age</th>\n",
       "      <th>workclass</th>\n",
       "      <th>education</th>\n",
       "      <th>education-num</th>\n",
       "      <th>marital-status</th>\n",
       "      <th>occupation</th>\n",
       "      <th>relationship</th>\n",
       "      <th>race</th>\n",
       "      <th>sex</th>\n",
       "      <th>capital-gain</th>\n",
       "      <th>capital-loss</th>\n",
       "      <th>hours-per-week</th>\n",
       "      <th>native-country</th>\n",
       "      <th>income</th>\n",
       "    </tr>\n",
       "  </thead>\n",
       "  <tbody>\n",
       "    <tr>\n",
       "      <th>0</th>\n",
       "      <td>39</td>\n",
       "      <td>State-gov</td>\n",
       "      <td>Bachelors</td>\n",
       "      <td>13</td>\n",
       "      <td>Never-married</td>\n",
       "      <td>Adm-clerical</td>\n",
       "      <td>Not-in-family</td>\n",
       "      <td>White</td>\n",
       "      <td>Male</td>\n",
       "      <td>2174</td>\n",
       "      <td>0</td>\n",
       "      <td>40</td>\n",
       "      <td>United-States</td>\n",
       "      <td>&lt;=50K</td>\n",
       "    </tr>\n",
       "    <tr>\n",
       "      <th>1</th>\n",
       "      <td>50</td>\n",
       "      <td>Self-emp-not-inc</td>\n",
       "      <td>Bachelors</td>\n",
       "      <td>13</td>\n",
       "      <td>Married-civ-spouse</td>\n",
       "      <td>Exec-managerial</td>\n",
       "      <td>Husband</td>\n",
       "      <td>White</td>\n",
       "      <td>Male</td>\n",
       "      <td>0</td>\n",
       "      <td>0</td>\n",
       "      <td>13</td>\n",
       "      <td>United-States</td>\n",
       "      <td>&lt;=50K</td>\n",
       "    </tr>\n",
       "    <tr>\n",
       "      <th>2</th>\n",
       "      <td>38</td>\n",
       "      <td>Private</td>\n",
       "      <td>HS-grad</td>\n",
       "      <td>9</td>\n",
       "      <td>Divorced</td>\n",
       "      <td>Handlers-cleaners</td>\n",
       "      <td>Not-in-family</td>\n",
       "      <td>White</td>\n",
       "      <td>Male</td>\n",
       "      <td>0</td>\n",
       "      <td>0</td>\n",
       "      <td>40</td>\n",
       "      <td>United-States</td>\n",
       "      <td>&lt;=50K</td>\n",
       "    </tr>\n",
       "    <tr>\n",
       "      <th>3</th>\n",
       "      <td>53</td>\n",
       "      <td>Private</td>\n",
       "      <td>11th</td>\n",
       "      <td>7</td>\n",
       "      <td>Married-civ-spouse</td>\n",
       "      <td>Handlers-cleaners</td>\n",
       "      <td>Husband</td>\n",
       "      <td>Black</td>\n",
       "      <td>Male</td>\n",
       "      <td>0</td>\n",
       "      <td>0</td>\n",
       "      <td>40</td>\n",
       "      <td>United-States</td>\n",
       "      <td>&lt;=50K</td>\n",
       "    </tr>\n",
       "    <tr>\n",
       "      <th>4</th>\n",
       "      <td>28</td>\n",
       "      <td>Private</td>\n",
       "      <td>Bachelors</td>\n",
       "      <td>13</td>\n",
       "      <td>Married-civ-spouse</td>\n",
       "      <td>Prof-specialty</td>\n",
       "      <td>Wife</td>\n",
       "      <td>Black</td>\n",
       "      <td>Female</td>\n",
       "      <td>0</td>\n",
       "      <td>0</td>\n",
       "      <td>40</td>\n",
       "      <td>Cuba</td>\n",
       "      <td>&lt;=50K</td>\n",
       "    </tr>\n",
       "  </tbody>\n",
       "</table>\n",
       "</div>"
      ],
      "text/plain": [
       "  age          workclass   education  education-num       marital-status  \\\n",
       "0  39          State-gov   Bachelors             13        Never-married   \n",
       "1  50   Self-emp-not-inc   Bachelors             13   Married-civ-spouse   \n",
       "2  38            Private     HS-grad              9             Divorced   \n",
       "3  53            Private        11th              7   Married-civ-spouse   \n",
       "4  28            Private   Bachelors             13   Married-civ-spouse   \n",
       "\n",
       "           occupation    relationship    race      sex  capital-gain  \\\n",
       "0        Adm-clerical   Not-in-family   White     Male          2174   \n",
       "1     Exec-managerial         Husband   White     Male             0   \n",
       "2   Handlers-cleaners   Not-in-family   White     Male             0   \n",
       "3   Handlers-cleaners         Husband   Black     Male             0   \n",
       "4      Prof-specialty            Wife   Black   Female             0   \n",
       "\n",
       "   capital-loss  hours-per-week  native-country  income  \n",
       "0             0              40   United-States   <=50K  \n",
       "1             0              13   United-States   <=50K  \n",
       "2             0              40   United-States   <=50K  \n",
       "3             0              40   United-States   <=50K  \n",
       "4             0              40            Cuba   <=50K  "
      ]
     },
     "execution_count": 35,
     "metadata": {},
     "output_type": "execute_result"
    }
   ],
   "source": [
    "#output of the convert\n",
    "cns.head(5)"
   ]
  },
  {
   "cell_type": "code",
   "execution_count": 36,
   "metadata": {},
   "outputs": [],
   "source": [
    "##test"
   ]
  },
  {
   "cell_type": "markdown",
   "metadata": {},
   "source": [
    "## Convert all non-numeric Data into numeric\n",
    "\n",
    "> This census dataset has lot of **featurs with non numeric format** <br>\n",
    "> But the problem is we *can't handle those data in machine learning contex *.<br>\n",
    "> There for we hv to convert those data into numeric format"
   ]
  },
  {
   "cell_type": "code",
   "execution_count": 37,
   "metadata": {},
   "outputs": [],
   "source": [
    "#function is converting all categorical data into nomeric format\n",
    "\n",
    "def handle_non_numeric_data(df):\n",
    "    columns = df.columns.values\n",
    "    \n",
    "    for column in columns:\n",
    "        text_digit_val ={} #use this variable to hold categories of each columns and there lables given by us\n",
    "        def convert_to_int(value):\n",
    "            return text_digit_val[value]\n",
    "        if df[column].dtype != np.int64 or df[column].dtype != np.float64:\n",
    "            column_content = df[column].values.tolist()\n",
    "            unique_element = set(column_content)\n",
    "            \n",
    "            x=0\n",
    "            for unique in unique_element:\n",
    "                if unique not in text_digit_val:\n",
    "                    text_digit_val[unique] = x\n",
    "                    x+=1\n",
    "            \n",
    "            df[column] = list(map(convert_to_int,df[column]))\n",
    "    \n",
    "    return df\n"
   ]
  },
  {
   "cell_type": "code",
   "execution_count": 38,
   "metadata": {},
   "outputs": [],
   "source": [
    "#execute the function\n",
    "cns = handle_non_numeric_data(cns)"
   ]
  },
  {
   "cell_type": "code",
   "execution_count": 39,
   "metadata": {},
   "outputs": [
    {
     "data": {
      "text/html": [
       "<div>\n",
       "<style scoped>\n",
       "    .dataframe tbody tr th:only-of-type {\n",
       "        vertical-align: middle;\n",
       "    }\n",
       "\n",
       "    .dataframe tbody tr th {\n",
       "        vertical-align: top;\n",
       "    }\n",
       "\n",
       "    .dataframe thead th {\n",
       "        text-align: right;\n",
       "    }\n",
       "</style>\n",
       "<table border=\"1\" class=\"dataframe\">\n",
       "  <thead>\n",
       "    <tr style=\"text-align: right;\">\n",
       "      <th></th>\n",
       "      <th>age</th>\n",
       "      <th>workclass</th>\n",
       "      <th>education</th>\n",
       "      <th>education-num</th>\n",
       "      <th>marital-status</th>\n",
       "      <th>occupation</th>\n",
       "      <th>relationship</th>\n",
       "      <th>race</th>\n",
       "      <th>sex</th>\n",
       "      <th>capital-gain</th>\n",
       "      <th>capital-loss</th>\n",
       "      <th>hours-per-week</th>\n",
       "      <th>native-country</th>\n",
       "      <th>income</th>\n",
       "    </tr>\n",
       "  </thead>\n",
       "  <tbody>\n",
       "    <tr>\n",
       "      <th>0</th>\n",
       "      <td>22</td>\n",
       "      <td>0</td>\n",
       "      <td>5</td>\n",
       "      <td>12</td>\n",
       "      <td>4</td>\n",
       "      <td>3</td>\n",
       "      <td>5</td>\n",
       "      <td>3</td>\n",
       "      <td>1</td>\n",
       "      <td>29</td>\n",
       "      <td>0</td>\n",
       "      <td>39</td>\n",
       "      <td>5</td>\n",
       "      <td>1</td>\n",
       "    </tr>\n",
       "    <tr>\n",
       "      <th>1</th>\n",
       "      <td>33</td>\n",
       "      <td>4</td>\n",
       "      <td>5</td>\n",
       "      <td>12</td>\n",
       "      <td>5</td>\n",
       "      <td>7</td>\n",
       "      <td>0</td>\n",
       "      <td>3</td>\n",
       "      <td>1</td>\n",
       "      <td>0</td>\n",
       "      <td>0</td>\n",
       "      <td>12</td>\n",
       "      <td>5</td>\n",
       "      <td>1</td>\n",
       "    </tr>\n",
       "    <tr>\n",
       "      <th>2</th>\n",
       "      <td>21</td>\n",
       "      <td>3</td>\n",
       "      <td>0</td>\n",
       "      <td>8</td>\n",
       "      <td>0</td>\n",
       "      <td>8</td>\n",
       "      <td>5</td>\n",
       "      <td>3</td>\n",
       "      <td>1</td>\n",
       "      <td>0</td>\n",
       "      <td>0</td>\n",
       "      <td>39</td>\n",
       "      <td>5</td>\n",
       "      <td>1</td>\n",
       "    </tr>\n",
       "    <tr>\n",
       "      <th>3</th>\n",
       "      <td>36</td>\n",
       "      <td>3</td>\n",
       "      <td>12</td>\n",
       "      <td>6</td>\n",
       "      <td>5</td>\n",
       "      <td>8</td>\n",
       "      <td>0</td>\n",
       "      <td>2</td>\n",
       "      <td>1</td>\n",
       "      <td>0</td>\n",
       "      <td>0</td>\n",
       "      <td>39</td>\n",
       "      <td>5</td>\n",
       "      <td>1</td>\n",
       "    </tr>\n",
       "    <tr>\n",
       "      <th>4</th>\n",
       "      <td>11</td>\n",
       "      <td>3</td>\n",
       "      <td>5</td>\n",
       "      <td>12</td>\n",
       "      <td>5</td>\n",
       "      <td>13</td>\n",
       "      <td>4</td>\n",
       "      <td>2</td>\n",
       "      <td>0</td>\n",
       "      <td>0</td>\n",
       "      <td>0</td>\n",
       "      <td>39</td>\n",
       "      <td>30</td>\n",
       "      <td>1</td>\n",
       "    </tr>\n",
       "  </tbody>\n",
       "</table>\n",
       "</div>"
      ],
      "text/plain": [
       "   age   workclass   education   education-num   marital-status   occupation  \\\n",
       "0   22           0           5              12                4            3   \n",
       "1   33           4           5              12                5            7   \n",
       "2   21           3           0               8                0            8   \n",
       "3   36           3          12               6                5            8   \n",
       "4   11           3           5              12                5           13   \n",
       "\n",
       "    relationship   race   sex   capital-gain   capital-loss   hours-per-week  \\\n",
       "0              5      3     1             29              0               39   \n",
       "1              0      3     1              0              0               12   \n",
       "2              5      3     1              0              0               39   \n",
       "3              0      2     1              0              0               39   \n",
       "4              4      2     0              0              0               39   \n",
       "\n",
       "    native-country   income  \n",
       "0                5        1  \n",
       "1                5        1  \n",
       "2                5        1  \n",
       "3                5        1  \n",
       "4               30        1  "
      ]
     },
     "execution_count": 39,
     "metadata": {},
     "output_type": "execute_result"
    }
   ],
   "source": [
    "#output of the function\n",
    "cns.head(5)"
   ]
  },
  {
   "cell_type": "markdown",
   "metadata": {},
   "source": [
    "## Spliting the dataset into the train and test"
   ]
  },
  {
   "cell_type": "code",
   "execution_count": 40,
   "metadata": {},
   "outputs": [],
   "source": [
    "x_prime = cns.iloc[:,:13].values\n",
    "y = cns.iloc[:,13].values"
   ]
  },
  {
   "cell_type": "code",
   "execution_count": 41,
   "metadata": {},
   "outputs": [
    {
     "name": "stdout",
     "output_type": "stream",
     "text": [
      "x_prime dataType: int64\n",
      "y dataType: int64\n"
     ]
    }
   ],
   "source": [
    "print(\"x_prime dataType: \"+str(x_prime.dtype))\n",
    "print(\"y dataType: \"+str(y.dtype))"
   ]
  },
  {
   "cell_type": "markdown",
   "metadata": {},
   "source": [
    "#### Normalizing the input data"
   ]
  },
  {
   "cell_type": "code",
   "execution_count": 42,
   "metadata": {},
   "outputs": [],
   "source": [
    "x_prime = x_prime.astype('float64') #converting data type into float64\n",
    "\n",
    "X = preprocessing.scale(x_prime)"
   ]
  },
  {
   "cell_type": "markdown",
   "metadata": {},
   "source": [
    "#### split  y and x into train and test\n",
    "> gives **70%** of **train data**,  and **30%** of **test data**"
   ]
  },
  {
   "cell_type": "code",
   "execution_count": 144,
   "metadata": {},
   "outputs": [],
   "source": [
    "x_train,x_test,y_train,y_test = train_test_split(X,y,test_size=.33)"
   ]
  },
  {
   "cell_type": "markdown",
   "metadata": {},
   "source": [
    "# 1. K Nearest Neighbour Classification "
   ]
  },
  {
   "cell_type": "markdown",
   "metadata": {},
   "source": [
    "##### 1.  initialzing the KNN I"
   ]
  },
  {
   "cell_type": "code",
   "execution_count": 44,
   "metadata": {},
   "outputs": [],
   "source": [
    "clf = neighbors.KNeighborsClassifier(n_neighbors = 5)"
   ]
  },
  {
   "cell_type": "markdown",
   "metadata": {},
   "source": [
    "##### 2. fit training data for train the model I"
   ]
  },
  {
   "cell_type": "code",
   "execution_count": 45,
   "metadata": {
    "scrolled": true
   },
   "outputs": [
    {
     "data": {
      "text/plain": [
       "KNeighborsClassifier(algorithm='auto', leaf_size=30, metric='minkowski',\n",
       "           metric_params=None, n_jobs=1, n_neighbors=5, p=2,\n",
       "           weights='uniform')"
      ]
     },
     "execution_count": 45,
     "metadata": {},
     "output_type": "execute_result"
    }
   ],
   "source": [
    "clf.fit(x_train,y_train)"
   ]
  },
  {
   "cell_type": "markdown",
   "metadata": {},
   "source": [
    "##### 3. evaluate the model performance at K=5"
   ]
  },
  {
   "cell_type": "code",
   "execution_count": 46,
   "metadata": {},
   "outputs": [
    {
     "name": "stdout",
     "output_type": "stream",
     "text": [
      "             precision    recall  f1-score   support\n",
      "\n",
      "          0       0.67      0.58      0.62      2503\n",
      "          1       0.86      0.90      0.88      7451\n",
      "\n",
      "avg / total       0.81      0.82      0.82      9954\n",
      "\n"
     ]
    }
   ],
   "source": [
    "y_expect = y_test\n",
    "y_predict = clf.predict(x_test)\n",
    "\n",
    "print(metrics.classification_report(y_expect,y_predict))"
   ]
  },
  {
   "cell_type": "code",
   "execution_count": 47,
   "metadata": {},
   "outputs": [
    {
     "data": {
      "text/plain": [
       "0.8217801888687964"
      ]
     },
     "execution_count": 47,
     "metadata": {},
     "output_type": "execute_result"
    }
   ],
   "source": [
    "accuracy_score(y_predict,y_expect)"
   ]
  },
  {
   "cell_type": "markdown",
   "metadata": {},
   "source": [
    "##### 4. find optimum K value for the model"
   ]
  },
  {
   "cell_type": "code",
   "execution_count": 48,
   "metadata": {},
   "outputs": [],
   "source": [
    "rangeList = list(range(1,50))\n",
    "neighbors = filter(lambda x: x%2!=0,rangeList)"
   ]
  },
  {
   "cell_type": "code",
   "execution_count": 49,
   "metadata": {},
   "outputs": [],
   "source": [
    "cv_scores =[]\n",
    "for k in neighbors:\n",
    "    knn = KNeighborsClassifier(n_neighbors = k)\n",
    "    scores = cross_val_score(knn,x_train,y_train ,cv =10,scoring='accuracy')\n",
    "    cv_scores.append(scores.mean())"
   ]
  },
  {
   "cell_type": "code",
   "execution_count": 57,
   "metadata": {},
   "outputs": [
    {
     "data": {
      "image/png": "[encoded data removed]",
      "text/plain": [
       "<Figure size 432x288 with 1 Axes>"
      ]
     },
     "metadata": {},
     "output_type": "display_data"
    }
   ],
   "source": [
    "rangeList = list(range(1,50))\n",
    "neighbors = filter(lambda x: x%2!=0,rangeList)\n",
    "MSE = [1 - x for x in cv_scores]\n",
    "MSE1 = MSE #assign MSE \n",
    "MSE = np.array(MSE).astype('float64')\n",
    "neighbors = np.array(list(neighbors)).astype('float64')\n",
    "\n",
    "plt.plot(neighbors, MSE)\n",
    "plt.xlabel('Number of Neighbors K')\n",
    "plt.ylabel('Misclassification Error')\n",
    "plt.show()\n"
   ]
  },
  {
   "cell_type": "markdown",
   "metadata": {},
   "source": [
    "#### Find optimum k value"
   ]
  },
  {
   "cell_type": "code",
   "execution_count": 140,
   "metadata": {},
   "outputs": [
    {
     "name": "stdout",
     "output_type": "stream",
     "text": [
      "Optimum K:19.0\n"
     ]
    }
   ],
   "source": [
    "optimum_k = neighbors[MSE1.index(min(MSE1))]\n",
    "print('Optimum K:'+str(optimum_k))"
   ]
  },
  {
   "cell_type": "markdown",
   "metadata": {},
   "source": [
    "#### Find the KNN algorithm with optimum k"
   ]
  },
  {
   "cell_type": "code",
   "execution_count": 145,
   "metadata": {},
   "outputs": [
    {
     "data": {
      "text/plain": [
       "KNeighborsClassifier(algorithm='auto', leaf_size=30, metric='minkowski',\n",
       "           metric_params=None, n_jobs=1, n_neighbors=19, p=2,\n",
       "           weights='uniform')"
      ]
     },
     "execution_count": 145,
     "metadata": {},
     "output_type": "execute_result"
    }
   ],
   "source": [
    "knn = KNeighborsClassifier(n_neighbors=19)\n",
    "knn.fit(x_train,y_train)"
   ]
  },
  {
   "cell_type": "code",
   "execution_count": 146,
   "metadata": {},
   "outputs": [],
   "source": [
    "y_predict = knn.predict(x_test)\n",
    "y_expect = y_test"
   ]
  },
  {
   "cell_type": "code",
   "execution_count": 147,
   "metadata": {},
   "outputs": [
    {
     "name": "stdout",
     "output_type": "stream",
     "text": [
      "             precision    recall  f1-score   support\n",
      "\n",
      "          0       0.70      0.57      0.63      2465\n",
      "          1       0.87      0.92      0.89      7489\n",
      "\n",
      "avg / total       0.83      0.83      0.83      9954\n",
      "\n"
     ]
    }
   ],
   "source": [
    "print(metrics.classification_report(y_expect,y_predict))"
   ]
  },
  {
   "cell_type": "markdown",
   "metadata": {},
   "source": [
    "##### More precision + low recall is for good Predictor"
   ]
  },
  {
   "cell_type": "markdown",
   "metadata": {},
   "source": [
    "#### predictor accuracy level"
   ]
  },
  {
   "cell_type": "code",
   "execution_count": null,
   "metadata": {},
   "outputs": [],
   "source": [
    "accuracy_score(y_predict, y_expect)"
   ]
  },
  {
   "cell_type": "code",
   "execution_count": null,
   "metadata": {},
   "outputs": [],
   "source": [
    "#this model has good accuracy level"
   ]
  },
  {
   "cell_type": "markdown",
   "metadata": {},
   "source": [
    "# 2. Logistic Regression"
   ]
  },
  {
   "cell_type": "code",
   "execution_count": 112,
   "metadata": {},
   "outputs": [],
   "source": [
    "#split into test and validation\n",
    "x_val,x_test,y_val,y_test = train_test_split(x_test,y_test,test_size=.5)"
   ]
  },
  {
   "cell_type": "code",
   "execution_count": 148,
   "metadata": {},
   "outputs": [
    {
     "data": {
      "text/plain": [
       "array([[0., 1.],\n",
       "       [0., 1.],\n",
       "       [1., 0.],\n",
       "       ...,\n",
       "       [0., 1.],\n",
       "       [0., 1.],\n",
       "       [0., 1.]], dtype=float32)"
      ]
     },
     "execution_count": 148,
     "metadata": {},
     "output_type": "execute_result"
    }
   ],
   "source": [
    "#convert to the one hot encording format\n",
    "y_val_one_hot = keras.utils.to_categorical(y_val,num_classes = 2)\n",
    "y_train = keras.utils.to_categorical(y_train,num_classes =2)\n",
    "y_test_one_hot = keras.utils.to_categorical(y_test,num_classes = 2)"
   ]
  },
  {
   "cell_type": "code",
   "execution_count": 170,
   "metadata": {},
   "outputs": [],
   "source": [
    "#crate the model\n",
    "epochs = 20\n",
    "batch_size = 110\n",
    "\n",
    "model = Sequential()\n",
    "model.add(Dense(2,input_dim = (13),activation='softmax'))\n",
    "model.compile(optimizer= 'sgd',\n",
    "              loss='categorical_crossentropy',\n",
    "              metrics=['accuracy'])"
   ]
  },
  {
   "cell_type": "code",
   "execution_count": 132,
   "metadata": {},
   "outputs": [
    {
     "name": "stdout",
     "output_type": "stream",
     "text": [
      "_________________________________________________________________\n",
      "Layer (type)                 Output Shape              Param #   \n",
      "=================================================================\n",
      "dense_7 (Dense)              (None, 2)                 28        \n",
      "=================================================================\n",
      "Total params: 28\n",
      "Trainable params: 28\n",
      "Non-trainable params: 0\n",
      "_________________________________________________________________\n"
     ]
    }
   ],
   "source": [
    "model.summary()"
   ]
  },
  {
   "cell_type": "code",
   "execution_count": null,
   "metadata": {},
   "outputs": [],
   "source": []
  },
  {
   "cell_type": "code",
   "execution_count": 171,
   "metadata": {},
   "outputs": [
    {
     "name": "stdout",
     "output_type": "stream",
     "text": [
      "Train on 20208 samples, validate on 1244 samples\n",
      "Epoch 1/20\n",
      "20208/20208 [==============================] - 1s 25us/step - loss: 0.6667 - acc: 0.6692 - val_loss: 0.4902 - val_acc: 0.7605\n",
      "Epoch 2/20\n",
      "20208/20208 [==============================] - 0s 14us/step - loss: 0.4517 - acc: 0.7884 - val_loss: 0.4203 - val_acc: 0.8087\n",
      "Epoch 3/20\n",
      "20208/20208 [==============================] - 0s 17us/step - loss: 0.4142 - acc: 0.8068 - val_loss: 0.4050 - val_acc: 0.8127\n",
      "Epoch 4/20\n",
      "20208/20208 [==============================] - 0s 17us/step - loss: 0.4042 - acc: 0.8096 - val_loss: 0.4004 - val_acc: 0.8119\n",
      "Epoch 5/20\n",
      "20208/20208 [==============================] - 0s 15us/step - loss: 0.4005 - acc: 0.8111 - val_loss: 0.3987 - val_acc: 0.8127\n",
      "Epoch 6/20\n",
      "20208/20208 [==============================] - 0s 16us/step - loss: 0.3989 - acc: 0.8118 - val_loss: 0.3981 - val_acc: 0.8135\n",
      "Epoch 7/20\n",
      "20208/20208 [==============================] - 0s 18us/step - loss: 0.3981 - acc: 0.8130 - val_loss: 0.3976 - val_acc: 0.8127\n",
      "Epoch 8/20\n",
      "20208/20208 [==============================] - 0s 15us/step - loss: 0.3977 - acc: 0.8130 - val_loss: 0.3974 - val_acc: 0.8119\n",
      "Epoch 9/20\n",
      "20208/20208 [==============================] - 0s 14us/step - loss: 0.3975 - acc: 0.8133 - val_loss: 0.3975 - val_acc: 0.8095\n",
      "Epoch 10/20\n",
      "20208/20208 [==============================] - 0s 17us/step - loss: 0.3974 - acc: 0.8135 - val_loss: 0.3974 - val_acc: 0.8103\n",
      "Epoch 11/20\n",
      "20208/20208 [==============================] - 0s 16us/step - loss: 0.3973 - acc: 0.8130 - val_loss: 0.3973 - val_acc: 0.8111\n",
      "Epoch 12/20\n",
      "20208/20208 [==============================] - 0s 15us/step - loss: 0.3973 - acc: 0.8132 - val_loss: 0.3973 - val_acc: 0.8111\n",
      "Epoch 13/20\n",
      "20208/20208 [==============================] - 0s 17us/step - loss: 0.3973 - acc: 0.8133 - val_loss: 0.3977 - val_acc: 0.8103\n",
      "Epoch 14/20\n",
      "20208/20208 [==============================] - 0s 16us/step - loss: 0.3972 - acc: 0.8134 - val_loss: 0.3975 - val_acc: 0.8103\n",
      "Epoch 15/20\n",
      "20208/20208 [==============================] - 0s 16us/step - loss: 0.3972 - acc: 0.8128 - val_loss: 0.3975 - val_acc: 0.8103\n",
      "Epoch 16/20\n",
      "20208/20208 [==============================] - 0s 15us/step - loss: 0.3973 - acc: 0.8132 - val_loss: 0.3975 - val_acc: 0.8103\n",
      "Epoch 17/20\n",
      "20208/20208 [==============================] - 0s 14us/step - loss: 0.3973 - acc: 0.8134 - val_loss: 0.3975 - val_acc: 0.8103\n",
      "Epoch 18/20\n",
      "20208/20208 [==============================] - 0s 16us/step - loss: 0.3972 - acc: 0.8131 - val_loss: 0.3974 - val_acc: 0.8095\n",
      "Epoch 19/20\n",
      "20208/20208 [==============================] - 0s 19us/step - loss: 0.3972 - acc: 0.8132 - val_loss: 0.3974 - val_acc: 0.8095\n",
      "Epoch 20/20\n",
      "20208/20208 [==============================] - 0s 15us/step - loss: 0.3972 - acc: 0.8133 - val_loss: 0.3974 - val_acc: 0.8111\n"
     ]
    },
    {
     "data": {
      "text/plain": [
       "<keras.callbacks.History at 0x17387095828>"
      ]
     },
     "execution_count": 171,
     "metadata": {},
     "output_type": "execute_result"
    }
   ],
   "source": [
    "#train the model\n",
    "model.fit(x_train,y_train, validation_data=(x_val, y_val_one_hot), batch_size=85,epochs=epochs)"
   ]
  },
  {
   "cell_type": "code",
   "execution_count": 180,
   "metadata": {},
   "outputs": [
    {
     "name": "stdout",
     "output_type": "stream",
     "text": [
      "9954/9954 [==============================] - 0s 15us/step\n"
     ]
    }
   ],
   "source": [
    "evaluate = model.evaluate(x_test,y_test_one_hot,verbose=1)"
   ]
  },
  {
   "cell_type": "code",
   "execution_count": 181,
   "metadata": {},
   "outputs": [
    {
     "name": "stdout",
     "output_type": "stream",
     "text": [
      "Model Loss Rate: 0.3894591273937164\n",
      "Model accuracy Rate: 0.8189672493469962\n"
     ]
    }
   ],
   "source": [
    "#calculating model accuracy rate\n",
    "print('Model Loss Rate: ' +str(evaluate[0]))\n",
    "print('Model accuracy Rate: ' +str(evaluate[1]))"
   ]
  },
  {
   "cell_type": "code",
   "execution_count": 182,
   "metadata": {},
   "outputs": [],
   "source": [
    "y_predict = model.predict(x_test)\n",
    "y_expect = y_test_one_hot"
   ]
  },
  {
   "cell_type": "code",
   "execution_count": 183,
   "metadata": {},
   "outputs": [
    {
     "data": {
      "text/plain": [
       "array([[0.02628084, 0.9737191 ],\n",
       "       [0.03910474, 0.96089524],\n",
       "       [0.1574343 , 0.8425657 ],\n",
       "       ...,\n",
       "       [0.6157402 , 0.38425976],\n",
       "       [0.1038794 , 0.89612055],\n",
       "       [0.7613911 , 0.2386089 ]], dtype=float32)"
      ]
     },
     "execution_count": 183,
     "metadata": {},
     "output_type": "execute_result"
    }
   ],
   "source": [
    "y_predict"
   ]
  },
  {
   "cell_type": "code",
   "execution_count": 184,
   "metadata": {},
   "outputs": [
    {
     "data": {
      "text/plain": [
       "array([[0., 1.],\n",
       "       [0., 1.],\n",
       "       [0., 1.],\n",
       "       ...,\n",
       "       [0., 1.],\n",
       "       [0., 1.],\n",
       "       [1., 0.]], dtype=float32)"
      ]
     },
     "execution_count": 184,
     "metadata": {},
     "output_type": "execute_result"
    }
   ],
   "source": [
    "y_expect"
   ]
  },
  {
   "cell_type": "code",
   "execution_count": null,
   "metadata": {},
   "outputs": [],
   "source": []
  },
  {
   "cell_type": "markdown",
   "metadata": {},
   "source": [
    "# 3. Neural Network"
   ]
  },
  {
   "cell_type": "code",
   "execution_count": null,
   "metadata": {},
   "outputs": [],
   "source": []
  }
 ],
 "metadata": {
  "kernelspec": {
   "display_name": "Python 3",
   "language": "python",
   "name": "python3"
  }
 },
 "nbformat": 4,
 "nbformat_minor": 2
}
